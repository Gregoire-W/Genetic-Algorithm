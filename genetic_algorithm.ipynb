{
 "cells": [
  {
   "cell_type": "markdown",
   "id": "c6bb6a7a",
   "metadata": {},
   "source": [
    "# Value Maximisation with Genetic Algorithms 🧬\n",
    "\n",
    "---\n",
    "\n",
    "## Summary\n",
    "\n",
    "- [1. Problem Introduction](#problem-introduction)\n",
    "- [2. Genetic Algorithms Presentation](#genetic-algorithms-presentation)\n",
    "- [3. Problem Implementation](#problem-implementation)\n",
    "- [4. Resolution and Fitness Comparison](#resolution-and-fitness-comparison)\n",
    "- [5. Is Genetic Algorithms Good for This Problem?](#is-genetic-algorithms-good-for-this-problem)\n",
    "- [6. Conclusion](#conclusion)\n",
    "\n",
    "---\n",
    "<a name=\"problem-introduction\"></a>\n",
    "## 1. Problem Introduction\n",
    "\n",
    "### Biscuit manufacturing factory problem 🍪\n",
    "A biscuit manufacturing factory is gearing up for the festive season by producing a variety of biscuits. The challenge? Maximising biscuit production and profit from a single roll of dough. Here’s the breakdown:\n",
    "\n",
    "### Key Information: \n",
    "- **Dough Roll Properties**:\n",
    "  - A predefined rectangular length, denoted as **‘LENGTH’** (one-dimensional problem).\n",
    "  - Contains **defects** at specific positions (**x**) and of various types (**a**, **b**, **c**, etc.).\n",
    "\n",
    "- **Biscuits**:\n",
    "  - Can be produced in infinite quantities.\n",
    "  - Have specific **sizes**, **values**, and **defect thresholds** (maximum allowable defects of each class).\n",
    "\n",
    "### Constraints: \n",
    "1. **Placement Rules**:\n",
    "   - Biscuits must be placed at **integer positions**.\n",
    "   - **No overlapping**: Positions occupied by one biscuit cannot be used by another.\n",
    "2. **Defect Tolerance**:\n",
    "   - A biscuit’s defect limits must not be exceeded for the positions it covers.\n",
    "3. **Length Limitation**:\n",
    "   - The total size of the biscuits cannot exceed the dough roll’s length.\n",
    "\n",
    "### Solution Value: \n",
    "- The value of a solution = **sum of biscuit values** – **penalty for unused dough** (-1 per empty position).\n",
    "\n",
    "### Project Benchmark:\n",
    "- **Roll Length**: 500 units.\n",
    "- **Defects**: 3 classes (a, b, c), details in `defects.csv`.\n",
    "- **Biscuits**:\n",
    "  - **Biscuit 0**: Length 4, Value 3, Defects {a: 4, b: 2, c: 3}.\n",
    "  - **Biscuit 1**: Length 8, Value 12, Defects {a: 5, b: 4, c: 4}.\n",
    "  - **Biscuit 2**: Length 2, Value 1, Defects {a: 1, b: 2, c: 1}.\n",
    "  - **Biscuit 3**: Length 5, Value 8, Defects {a: 2, b: 3, c: 2}.\n",
    "\n",
    "---\n",
    "<a name=\"genetic-algorithms-presentation\"></a>\n",
    "## 2. Genetic Algorithms Presentation 🧬🔄\n",
    "\n",
    "### What are Genetic Algorithms (GAs)?\n",
    "Genetic Algorithms (GAs) are optimisation techniques inspired by **natural selection**. They simulate the process of evolution to find solutions to complex problems. GAs are particularly effective for large search spaces and problems with multiple constraints.\n",
    "\n",
    "### Key Steps in GAs:\n",
    "1. **Initialisation** 🔄:\n",
    "   - Start with a randomly generated population of potential solutions.\n",
    "\n",
    "2. **Evaluation** 💯:\n",
    "   - Calculate the fitness of each solution (e.g., total value of biscuits – penalties).\n",
    "\n",
    "3. **Selection** 🥇:\n",
    "   - Choose the best solutions based on fitness to form the next generation.\n",
    "\n",
    "4. **Crossover** 🔗:\n",
    "   - Combine parts of two solutions (parents) to produce new solutions (children).\n",
    "\n",
    "5. **Mutation** 🍀:\n",
    "   - Introduce small changes to solutions to explore new possibilities.\n",
    "\n",
    "6. **Termination** ⏳:\n",
    "   - Stop when a satisfactory solution is found or after a predefined number of generations.\n",
    "\n",
    "---\n",
    "<a name=\"problem-implementation\"></a>\n",
    "## 3. Problem Implementation ⚙️\n"
   ]
  },
  {
   "cell_type": "code",
   "execution_count": 1,
   "id": "baa8d0e3",
   "metadata": {},
   "outputs": [],
   "source": [
    "import numpy as np\n",
    "import random\n",
    "import pandas as pd"
   ]
  },
  {
   "cell_type": "code",
   "execution_count": 2,
   "id": "02da3ba4",
   "metadata": {},
   "outputs": [],
   "source": [
    "np.random.seed(2)\n",
    "random.seed(2)"
   ]
  },
  {
   "cell_type": "code",
   "execution_count": 3,
   "id": "45d547d2",
   "metadata": {},
   "outputs": [],
   "source": [
    "def init_population(pop_size, roll_size):\n",
    "    \n",
    "    return [np.random.randint(-1, 4, size=(roll_size,)) for _ in range(pop_size)]"
   ]
  },
  {
   "cell_type": "code",
   "execution_count": 4,
   "id": "2ec2e892-4ee6-4dd7-aba2-854b6e0589df",
   "metadata": {},
   "outputs": [],
   "source": [
    "def respect_defects(threshold, start, end, roll_defects):\n",
    "    pos_defects = {\"a\": 0, \"b\": 0, \"c\": 0}\n",
    "    for pos in range(start, end):\n",
    "        for key in roll_defects[pos]:\n",
    "            pos_defects[key] += (roll_defects[pos][key])\n",
    "    return all(threshold[key] >= pos_defects[key] for key in pos_defects.keys())"
   ]
  },
  {
   "cell_type": "code",
   "execution_count": 5,
   "id": "a1b5336c",
   "metadata": {},
   "outputs": [],
   "source": [
    "def fitness(ind, biscuits_list, roll_defects):\n",
    "    \n",
    "    score = 0\n",
    "    size = 0\n",
    "    last_elem = -2  # So we don't have to check if we test the first value of the list each iteration doing ind[i-1]\n",
    "    for i, elem in enumerate(ind):\n",
    "        if elem == -1:  # If no biscuit value no need to test anymore\n",
    "            score -= (1 + size)\n",
    "            size = 0\n",
    "        else:\n",
    "            if elem != last_elem:\n",
    "                score -= size\n",
    "                size = 1\n",
    "            else:\n",
    "                size += 1\n",
    "            if size == biscuits_list[elem][\"size\"]:  # Test the defects only if the biscuit reach its required size\n",
    "                if respect_defects(biscuits_list[elem][\"threshold\"], i - size + 1, i + 1, roll_defects):\n",
    "                    score += biscuits_list[elem][\"value\"]\n",
    "                    size = 0\n",
    "                else:\n",
    "                    score -= 1\n",
    "                    size -= 1\n",
    "        last_elem = elem\n",
    "    score -= size  # Don't forget to remove last biscuit pieces that are not whole\n",
    "    return score"
   ]
  },
  {
   "cell_type": "code",
   "execution_count": 6,
   "id": "33ed7692-6297-4240-a9bc-d4ae8eb85f1f",
   "metadata": {},
   "outputs": [],
   "source": [
    "def get_slice_score(position, size, lb_size, lb_value, lb_threshold, roll_defects):  # lb stands for last biscuit\n",
    "    score = 0\n",
    "    unassigned = [i for i in range(position - size, position)]  # Ensure we give a value to every biscuit of the last biscuit type \n",
    "    last_size = min(lb_size, size)\n",
    "    while unassigned and last_size != 0:  # While we don't have assigned a value for every last position\n",
    "        j = 0\n",
    "        assigned = []\n",
    "        while j <= len(unassigned) - last_size:\n",
    "            pos = unassigned[j]\n",
    "            start = pos  # Start of the continuation of the previous value\n",
    "            end = pos + last_size\n",
    "            if all(elem in unassigned for elem in range(start, end)):\n",
    "                if respect_defects(lb_threshold, start, end, roll_defects):\n",
    "                    score += (last_size/lb_size)**2 * lb_value  # the closer the biscuit is to its full size, the more importance is given to it\n",
    "                    for rem in range(start, end):\n",
    "                        assigned.append(rem)\n",
    "                    j += last_size - 1  # Put -1 because there is a j+=1 at the end of the loop anw \n",
    "            j+=1\n",
    "        for assi in  assigned:\n",
    "            unassigned.remove(assi) \n",
    "        last_size -= 1\n",
    "    score -= len(unassigned)  # -1 For all element that do not respect defects even alone\n",
    "    return score"
   ]
  },
  {
   "cell_type": "code",
   "execution_count": 7,
   "id": "a3d97b57-096a-461a-aec4-6a5485fe0def",
   "metadata": {},
   "outputs": [],
   "source": [
    "# We can try to give more importants to biscuits that aren't full but almost\n",
    "def fitness_2(ind, biscuits_list, roll_defects):\n",
    "    \n",
    "    score = 0\n",
    "    size = 0\n",
    "    last_elem = ind[0]  # So we don't have to check if we test the first value of the list each iteration doing ind[i-1]\n",
    "    for i, elem in enumerate(ind):\n",
    "        if elem == last_elem:\n",
    "            size += 1\n",
    "        else:\n",
    "            if last_elem == -1:\n",
    "                score -= size\n",
    "            else:\n",
    "                slice_score = get_slice_score(i, size, biscuits_list[last_elem][\"size\"], biscuits_list[last_elem][\"value\"], biscuits_list[last_elem][\"threshold\"], roll_defects)\n",
    "                score += slice_score\n",
    "            size = 1\n",
    "        last_elem = elem\n",
    "    score += get_slice_score(len(ind), size, biscuits_list[last_elem][\"size\"], biscuits_list[last_elem][\"value\"], biscuits_list[last_elem][\"threshold\"], roll_defects)\n",
    "                \n",
    "    return score"
   ]
  },
  {
   "cell_type": "code",
   "execution_count": 8,
   "id": "a6dd84d5",
   "metadata": {},
   "outputs": [],
   "source": [
    "def evolve_pop(population, mutation_rate, elite_ratio, biscuits_list, roll_defects, fitness):\n",
    "    fitness_values = [fitness(ind, biscuits_list, roll_defects) for ind in population]\n",
    "\n",
    "    min_fitness = min(fitness_values)\n",
    "    shifted_fitness = [f - min_fitness + 1 for f in fitness_values]  # Add 1 to avoid zero fitness\n",
    "\n",
    "    fitness_sum = sum(shifted_fitness)\n",
    "    probabilities = [f / fitness_sum for f in shifted_fitness]\n",
    "    \n",
    "    elite_idx = np.argsort(fitness_values)[int(-len(population) * elite_ratio):]\n",
    "    \n",
    "    elites = [population[i] for i in elite_idx]\n",
    "\n",
    "    new_population = []\n",
    "    while len(new_population) < len(population) - len(elites):\n",
    "        \n",
    "        # Cross over\n",
    "        # Select two parents based on fitness probabilities\n",
    "        parents_indices = np.random.choice(len(population), size=2, replace=False, p=probabilities)\n",
    "        parent1 = population[parents_indices[0]]\n",
    "        parent2 = population[parents_indices[1]]\n",
    "\n",
    "        child = np.zeros(parent1.shape)\n",
    "        break_points = np.random.choice(len(parent1), size=3, replace=False)\n",
    "        break_points = np.insert(break_points, 0, [0, len(parent1)])\n",
    "        break_points.sort()\n",
    "        #slices = [(break_points[i], break_points[i+1]) for i in range(len(break_points)-1)]\n",
    "        for i in range(len(break_points)-1):\n",
    "            start = break_points[i]\n",
    "            end = break_points[i+1]\n",
    "            chosen_p = parent1 if random.random() < 0.5 else parent2\n",
    "            child[start:end] = chosen_p[start:end]\n",
    "\n",
    "        # Mutation\n",
    "        muted_child = np.array([gene if random.random() > mutation_rate else random.randint(-1, 3) for gene in child] )\n",
    "\n",
    "        new_population.append(muted_child)\n",
    "        \n",
    "    return new_population + elites"
   ]
  },
  {
   "cell_type": "code",
   "execution_count": 9,
   "id": "5f621645",
   "metadata": {},
   "outputs": [],
   "source": [
    "def genetic_algorithm(pop_size, mutation_rate, elite_ratio, biscuits_list, roll_defects, roll_size, max_iter, display, fitness, population=None, rtype=\"elite\"):\n",
    "    if population is None:\n",
    "        population = init_population(pop_size, roll_size)\n",
    "    \n",
    "    for i in range(max_iter):\n",
    "        population = evolve_pop(population, mutation_rate, elite_ratio, biscuits_list, roll_defects, fitness)\n",
    "        \n",
    "        if display and (i+1) % display == 0:\n",
    "            # Metric computation, remove 4 lines below to go faster\n",
    "            fitness_values = [fitness(ind, biscuits_list, roll_defects) for ind in population]\n",
    "            elite_idx = np.argsort(fitness_values)[-1]\n",
    "            print(f'Generation {i+1}: Best fitness {fitness_values[elite_idx]}')\n",
    "\n",
    "    if rtype != \"population\":  # if rtype = \"population\" we want to return the entire population for further improves\n",
    "        fitness_values = [fitness(ind, biscuits_list, roll_defects) for ind in population]\n",
    "        elite_idx = np.argsort(fitness_values)[-1]\n",
    "        population = [population[elite_idx]]  # returns only the best element\n",
    "    \n",
    "    return population\n",
    "    "
   ]
  },
  {
   "cell_type": "markdown",
   "id": "62065138",
   "metadata": {},
   "source": [
    "---\n",
    "<a name=\"resolution-and-fitness-comparison\"></a>\n",
    "## 4. Resolution and Fitness Comparison 📊"
   ]
  },
  {
   "cell_type": "code",
   "execution_count": 10,
   "id": "22deb6ad",
   "metadata": {},
   "outputs": [
    {
     "name": "stdout",
     "output_type": "stream",
     "text": [
      "(500, 2)\n"
     ]
    },
    {
     "data": {
      "text/html": [
       "<div>\n",
       "<style scoped>\n",
       "    .dataframe tbody tr th:only-of-type {\n",
       "        vertical-align: middle;\n",
       "    }\n",
       "\n",
       "    .dataframe tbody tr th {\n",
       "        vertical-align: top;\n",
       "    }\n",
       "\n",
       "    .dataframe thead th {\n",
       "        text-align: right;\n",
       "    }\n",
       "</style>\n",
       "<table border=\"1\" class=\"dataframe\">\n",
       "  <thead>\n",
       "    <tr style=\"text-align: right;\">\n",
       "      <th></th>\n",
       "      <th>x</th>\n",
       "      <th>class</th>\n",
       "    </tr>\n",
       "  </thead>\n",
       "  <tbody>\n",
       "    <tr>\n",
       "      <th>479</th>\n",
       "      <td>0.700561</td>\n",
       "      <td>a</td>\n",
       "    </tr>\n",
       "  </tbody>\n",
       "</table>\n",
       "</div>"
      ],
      "text/plain": [
       "            x class\n",
       "479  0.700561     a"
      ]
     },
     "execution_count": 10,
     "metadata": {},
     "output_type": "execute_result"
    }
   ],
   "source": [
    "df = pd.read_csv(\"defects.csv\")\n",
    "print(df.shape)\n",
    "df = df.sort_values(by=\"x\")\n",
    "df.head(1)"
   ]
  },
  {
   "cell_type": "code",
   "execution_count": 11,
   "id": "bc63d0a8",
   "metadata": {},
   "outputs": [],
   "source": [
    "# dict format -> id : (value, size, defects_threshold)\n",
    "\n",
    "biscuits_list = {\n",
    "    -1: ({\"value\": -1, \"size\": 1, \"threshold\": {\"a\":9, \"b\":9, \"c\":9}}),\n",
    "     0: ({\"value\":  3, \"size\": 4, \"threshold\": {\"a\":4, \"b\":2, \"c\":3}}),\n",
    "     1: ({\"value\": 12, \"size\": 8, \"threshold\": {\"a\":5, \"b\":4, \"c\":4}}),\n",
    "     2: ({\"value\":  1, \"size\": 2, \"threshold\": {\"a\":1, \"b\":2, \"c\":1}}),\n",
    "     3: ({\"value\":  8, \"size\": 5, \"threshold\": {\"a\":4, \"b\":2, \"c\":3}}),\n",
    "}"
   ]
  },
  {
   "cell_type": "code",
   "execution_count": 12,
   "id": "3c635e4d",
   "metadata": {},
   "outputs": [],
   "source": [
    "roll_size = 500\n",
    "roll_defects = {i: {\"a\": 0, \"b\": 0, \"c\": 0} for i in range(roll_size)}\n",
    "for _, row in df.iterrows():\n",
    "    if int(row[\"x\"]) >= roll_size:\n",
    "        break\n",
    "    roll_defects[int(row[\"x\"])][row[\"class\"]] += 1"
   ]
  },
  {
   "cell_type": "code",
   "execution_count": 13,
   "id": "859340e6",
   "metadata": {},
   "outputs": [],
   "source": [
    "pop_size = 1000\n",
    "#mutation_rate = 0.01\n",
    "elite_ratio = 0.1\n",
    "max_iter = 1000\n",
    "display = max_iter // 10"
   ]
  },
  {
   "cell_type": "code",
   "execution_count": 16,
   "id": "c6143c57",
   "metadata": {
    "scrolled": true
   },
   "outputs": [
    {
     "name": "stdout",
     "output_type": "stream",
     "text": [
      "m_rate: 0.01 best fit score 1: 420 | best fit score 2: 645.0124999999999\n",
      "m_rate: 0.02 best fit score 1: 281 | best fit score 2: 560.6774999999999\n",
      "m_rate: 0.03 best fit score 1: 64 | best fit score 2: 463.4299999999999\n",
      "m_rate: 0.04 best fit score 1: -14 | best fit score 2: 419.1599999999997\n",
      "m_rate: 0.1 best fit score 1: -301 | best fit score 2: 258.6799999999998\n"
     ]
    }
   ],
   "source": [
    "for mutation_rate in [0.01, 0.02, 0.03, 0.04, 0.1]:\n",
    "    result = genetic_algorithm(pop_size, mutation_rate, elite_ratio, biscuits_list, roll_defects, roll_size, max_iter, display, fitness_2)\n",
    "    print(f\"m_rate: {mutation_rate} best fit score 1: {fitness(result, biscuits_list, roll_defects)} | best fit score 2: {fitness_2(result, biscuits_list, roll_defects)}\")"
   ]
  },
  {
   "cell_type": "code",
   "execution_count": 13,
   "id": "c97e9458",
   "metadata": {},
   "outputs": [
    {
     "name": "stdout",
     "output_type": "stream",
     "text": [
      "Generation 100: Best fitness 382.1949999999999\n",
      "Generation 200: Best fitness 496.0299999999999\n",
      "Generation 300: Best fitness 545.9199999999998\n",
      "Generation 400: Best fitness 583.5975\n",
      "Generation 500: Best fitness 610.8075\n",
      "Generation 600: Best fitness 617.42\n",
      "Generation 700: Best fitness 626.23\n",
      "Generation 800: Best fitness 634.1075\n",
      "Generation 900: Best fitness 640.4324999999999\n",
      "Generation 1000: Best fitness 645.0124999999999\n"
     ]
    }
   ],
   "source": [
    "pop_size = 1000\n",
    "mutation_rate = 0.01\n",
    "elite_ratio = 0.1\n",
    "max_iter = 1000\n",
    "display = max_iter // 10\n",
    "population = genetic_algorithm(pop_size, mutation_rate, elite_ratio, biscuits_list, roll_defects, roll_size, max_iter, display, fitness_2, rtype=\"population\")"
   ]
  },
  {
   "cell_type": "code",
   "execution_count": 14,
   "id": "898ec6a1",
   "metadata": {},
   "outputs": [
    {
     "name": "stdout",
     "output_type": "stream",
     "text": [
      "Generation 100: Best fitness 449\n",
      "Generation 200: Best fitness 459\n",
      "Generation 300: Best fitness 462\n",
      "Generation 400: Best fitness 472\n",
      "Generation 500: Best fitness 478\n",
      "Generation 600: Best fitness 481\n",
      "Generation 700: Best fitness 487\n",
      "Generation 800: Best fitness 490\n",
      "Generation 900: Best fitness 496\n",
      "Generation 1000: Best fitness 499\n"
     ]
    }
   ],
   "source": [
    "pop_size = len(population)\n",
    "mutation_rate = 0.01\n",
    "elite_ratio = 0.1\n",
    "max_iter = 1000\n",
    "display = max_iter // 10\n",
    "elite = genetic_algorithm(pop_size, mutation_rate, elite_ratio, biscuits_list, roll_defects, roll_size, max_iter, display, fitness, population=population)"
   ]
  },
  {
   "cell_type": "code",
   "execution_count": 15,
   "id": "28a0c51b",
   "metadata": {},
   "outputs": [
    {
     "data": {
      "text/plain": [
       "[array([ 1.,  3.,  0.,  0.,  0.,  0.,  2.,  2.,  1., -1.,  3.,  3.,  3.,\n",
       "         3.,  3.,  1.,  1.,  1.,  1.,  1.,  1.,  1.,  1.,  1.,  3.,  3.,\n",
       "         3.,  3.,  3.,  3.,  3.,  3.,  3.,  3.,  2.,  2.,  3.,  3.,  3.,\n",
       "        -1., -1.,  3.,  3.,  3.,  3.,  3.,  3.,  3.,  3.,  3.,  3.,  3.,\n",
       "         3.,  3.,  3.,  3.,  3.,  3.,  3.,  3.,  3.,  0.,  0.,  0.,  0.,\n",
       "         3.,  3.,  3.,  3.,  3.,  2.,  2.,  0.,  3.,  3.,  3.,  3.,  3.,\n",
       "         1.,  1., -1.,  1.,  3.,  3.,  3.,  3.,  3.,  3.,  2.,  2.,  3.,\n",
       "         3.,  3.,  3.,  3.,  2.,  2.,  1.,  3.,  3.,  3.,  3.,  3.,  3.,\n",
       "         3.,  3.,  3.,  3.,  3.,  3.,  3.,  3.,  3.,  3.,  3.,  2.,  3.,\n",
       "         3.,  0.,  2.,  2.,  3.,  3.,  3.,  3.,  3.,  3.,  3.,  3.,  3.,\n",
       "         3.,  3.,  3.,  3.,  3.,  3.,  3.,  3.,  3.,  3.,  3.,  1.,  1.,\n",
       "         3.,  3.,  3.,  3.,  3.,  3.,  3.,  0.,  3.,  3.,  3.,  3.,  3.,\n",
       "         0.,  1.,  2.,  0.,  0.,  0.,  0.,  1.,  1.,  3.,  1.,  1.,  1.,\n",
       "         1.,  1.,  1.,  1.,  1.,  1.,  3.,  3.,  3.,  3.,  3.,  3.,  3.,\n",
       "         3.,  3.,  1.,  2.,  2.,  3.,  3.,  3.,  1.,  1.,  1.,  0.,  0.,\n",
       "         0.,  0.,  3.,  3.,  3.,  3.,  3.,  0.,  3.,  3.,  3.,  3.,  3.,\n",
       "         1.,  0.,  3.,  2.,  2.,  2.,  2.,  3.,  3.,  3.,  3.,  3.,  3.,\n",
       "         3.,  3.,  3.,  3.,  3.,  3.,  3.,  3.,  3.,  0., -1.,  3.,  3.,\n",
       "         3.,  3.,  3.,  1.,  1.,  1.,  1.,  1.,  1.,  1.,  1.,  1.,  3.,\n",
       "         3.,  3.,  3.,  3.,  1.,  2.,  2.,  3.,  3.,  3.,  3.,  3.,  0.,\n",
       "         3.,  3.,  3.,  3.,  3.,  3.,  3.,  3.,  3.,  3.,  3.,  3.,  3.,\n",
       "         3.,  3.,  3.,  1.,  1.,  0.,  1.,  0.,  3.,  3.,  3.,  3.,  3.,\n",
       "         3.,  3.,  3.,  3.,  3.,  3.,  3.,  1.,  2.,  2.,  2.,  2.,  3.,\n",
       "         3.,  3.,  3.,  3.,  3.,  3.,  3.,  3.,  3.,  3.,  3.,  3.,  3.,\n",
       "         3.,  3.,  3.,  2.,  2.,  3.,  3.,  3.,  3.,  3.,  3.,  3.,  3.,\n",
       "         3.,  3.,  1.,  1.,  1.,  1.,  1.,  1.,  1.,  1.,  2.,  2.,  3.,\n",
       "         3.,  3.,  3.,  3.,  0.,  1.,  1.,  1.,  1.,  1.,  1.,  1.,  1.,\n",
       "         1.,  1.,  2.,  2.,  0.,  1.,  0.,  0.,  0.,  0.,  0.,  3.,  3.,\n",
       "         3.,  3.,  3.,  2.,  3.,  3.,  3.,  3.,  3.,  3., -1.,  3.,  3.,\n",
       "         3.,  3.,  3.,  2.,  2., -1., -1.,  1.,  1.,  1.,  1.,  1.,  1.,\n",
       "         1.,  1.,  3.,  3.,  3.,  3.,  3.,  3.,  3.,  3.,  3.,  3.,  3.,\n",
       "         3.,  3.,  3.,  3.,  3.,  3.,  3.,  3.,  3.,  0.,  3.,  3.,  3.,\n",
       "         3.,  3.,  0.,  3.,  3.,  3.,  3.,  3.,  1.,  1.,  1.,  1.,  1.,\n",
       "         1.,  1.,  1.,  0., -1.,  1.,  2.,  2.,  3.,  3.,  3.,  3.,  3.,\n",
       "        -1.,  3.,  3.,  3.,  3.,  3.,  3.,  3.,  3.,  3.,  3.,  3.,  3.,\n",
       "         3.,  3.,  3.,  3.,  3.,  3.,  3.,  3.,  3.,  3.,  3.,  3.,  3.,\n",
       "         2.,  3.,  3.,  2.,  2.,  3.,  3.,  3.,  3.,  3.,  3.,  3.,  3.,\n",
       "         3.,  3.,  3.,  3.,  3.,  3.,  3.,  0.,  1.,  1.,  2.,  2.,  1.,\n",
       "         3.,  3.,  3.,  3.,  3.,  2.])]"
      ]
     },
     "execution_count": 15,
     "metadata": {},
     "output_type": "execute_result"
    }
   ],
   "source": [
    "elite"
   ]
  },
  {
   "cell_type": "code",
   "execution_count": null,
   "id": "2c9a5d95-28ee-4cca-9334-50165b647aa1",
   "metadata": {},
   "outputs": [
    {
     "name": "stdout",
     "output_type": "stream",
     "text": [
      "get_slice_score from 1 to 5 with size: 4\n",
      "try pos : 1 for size: 4\n",
      "assigned :  1  in a biscuit size:   4\n",
      "assigned :  2  in a biscuit size:   4\n",
      "assigned :  3  in a biscuit size:   4\n",
      "assigned :  4  in a biscuit size:   4\n",
      "get_slice_score from 5 to 6 with size: 1\n",
      "try pos : 5 for size: 1\n",
      "assigned :  5  in a biscuit size:   1\n",
      "get_slice_score from 6 to 9 with size: 3\n",
      "try pos : 6 for size: 3\n",
      "assigned :  6  in a biscuit size:   3\n",
      "assigned :  7  in a biscuit size:   3\n",
      "assigned :  8  in a biscuit size:   3\n",
      "get_slice_score from 9 to 10 with size: 1\n",
      "try pos : 9 for size: 1\n",
      "assigned :  9  in a biscuit size:   1\n"
     ]
    },
    {
     "data": {
      "text/plain": [
       "5.057500000000001"
      ]
     },
     "execution_count": 423,
     "metadata": {},
     "output_type": "execute_result"
    }
   ],
   "source": [
    "# Example fitness_2\n",
    "fitness_2([-1, 3, 3, 3, 3, 2, 0, 0, 0, -1], biscuits_list, roll_defects)"
   ]
  },
  {
   "cell_type": "markdown",
   "id": "577dc2a7",
   "metadata": {},
   "source": [
    "---\n",
    "<a name=\"is-genetic-algorithms-good-for-this-problem\"></a>\n",
    "## 5. Is Genetic Algorithms Good for This Problem? ❔🕵️‍♂️\n",
    "\n",
    "*(Content to be added.)*\n",
    "\n",
    "---\n",
    "<a name=\"conclusion\"></a>\n",
    "## 6. Conclusion 🎉\n",
    "\n",
    "*(Content to be added.)*"
   ]
  },
  {
   "cell_type": "markdown",
   "id": "24cacf79",
   "metadata": {},
   "source": []
  }
 ],
 "metadata": {
  "kernelspec": {
   "display_name": "base",
   "language": "python",
   "name": "python3"
  },
  "language_info": {
   "codemirror_mode": {
    "name": "ipython",
    "version": 3
   },
   "file_extension": ".py",
   "mimetype": "text/x-python",
   "name": "python",
   "nbconvert_exporter": "python",
   "pygments_lexer": "ipython3",
   "version": "3.11.5"
  }
 },
 "nbformat": 4,
 "nbformat_minor": 5
}
