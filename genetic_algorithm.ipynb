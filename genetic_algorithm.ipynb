{
 "cells": [
  {
   "cell_type": "code",
   "execution_count": 1,
   "id": "baa8d0e3",
   "metadata": {},
   "outputs": [],
   "source": [
    "import numpy as np\n",
    "import random\n",
    "import pandas as pd"
   ]
  },
  {
   "cell_type": "code",
   "execution_count": 2,
   "id": "02da3ba4",
   "metadata": {},
   "outputs": [],
   "source": [
    "np.random.seed(42)\n",
    "random.seed(42)"
   ]
  },
  {
   "cell_type": "code",
   "execution_count": 2,
   "id": "45d547d2",
   "metadata": {},
   "outputs": [],
   "source": [
    "def init_population(pop_size, roll_size):\n",
    "    \n",
    "    return [np.random.randint(-1, 4, size=(roll_size,)) for _ in range(pop_size)]"
   ]
  },
  {
   "cell_type": "code",
   "execution_count": 3,
   "id": "a1b5336c",
   "metadata": {},
   "outputs": [],
   "source": [
    "def fitness(ind, biscuits_list, roll_defects):\n",
    "    \n",
    "    score = 0\n",
    "    size = 0\n",
    "    last_elem = -2  # So we don't have to check if we test the first value of the list each iteration doing ind[i-1]\n",
    "    for i, elem in enumerate(ind):\n",
    "        if elem == -1:  # If no biscuit value no need to test anymore\n",
    "            score -= (1 + size)\n",
    "            size = 0\n",
    "        else:\n",
    "            if elem != last_elem:\n",
    "                score -= size\n",
    "                size = 1\n",
    "            else:\n",
    "                size += 1\n",
    "            if size == biscuits_list[elem][1]:  # Test the defects only if the biscuit reach its required size\n",
    "                pos_defects = {\"a\": 0, \"b\": 0, \"c\": 0}\n",
    "                for pos in range(i - size + 1, i):\n",
    "                    for key in roll_defects[pos]:\n",
    "                        pos_defects[key] += (roll_defects[pos][key])\n",
    "                biscuit_defects = biscuits_list[elem][2]\n",
    "                if any(b_value < p_value for b_value, p_value in zip(biscuit_defects.values(), pos_defects.values())):\n",
    "                    score -= 1\n",
    "                    size -= 1\n",
    "                else:\n",
    "                    score += biscuits_list[elem][0]\n",
    "                    size = 0\n",
    "        last_elem = elem\n",
    "    score -= size  # Don't forget to remove last biscuit pieces that are not whole\n",
    "    return score"
   ]
  },
  {
   "cell_type": "code",
   "execution_count": 4,
   "id": "a6dd84d5",
   "metadata": {},
   "outputs": [],
   "source": [
    "def evolve_pop(population, mutation_rate, elite_ratio, biscuits_list, roll_defects):\n",
    "    \n",
    "    fitness_values = [fitness(ind, biscuits_list, roll_defects) for ind in population]\n",
    "    \n",
    "    # Shift fitness to make all values positive\n",
    "    min_fitness = min(fitness_values)\n",
    "    shifted_fitness = [f - min_fitness + 1 for f in fitness_values]  # Add 1 to avoid zero fitness\n",
    "\n",
    "    fitness_sum = sum(shifted_fitness)\n",
    "    probabilities = [f / fitness_sum for f in shifted_fitness]\n",
    "    \n",
    "    elite_idx = np.argsort(fitness_values)[int(-len(population) * elite_ratio):]\n",
    "    \n",
    "    elites = [population[i] for i in elite_idx]\n",
    "    \n",
    "    new_population = []\n",
    "    while len(new_population) < len(population) - len(elites):\n",
    "        \n",
    "        # Cross over\n",
    "        # Select two parents based on fitness probabilities\n",
    "        parents_indices = np.random.choice(len(population), size=2, replace=False, p=probabilities)\n",
    "        parent1 = population[parents_indices[0]]\n",
    "        parent2 = population[parents_indices[1]]\n",
    "        child = np.zeros(parent1.shape)\n",
    "        break_points = np.random.choice(500, size=3, replace=False)\n",
    "        break_points.sort\n",
    "        start=0\n",
    "        for bp in break_points:\n",
    "            chosen_p = parent1 if random.random() < 0.5 else parent2\n",
    "            child[start:bp] = chosen_p[start:bp]\n",
    "            start = bp\n",
    "            \n",
    "        # Mutation\n",
    "        muted_child = np.array([gene if random.random() > mutation_rate else random.randint(-1, 3) for gene in child] )\n",
    "        \n",
    "        new_population.append(muted_child)\n",
    "    return new_population + elites"
   ]
  },
  {
   "cell_type": "code",
   "execution_count": 5,
   "id": "5f621645",
   "metadata": {},
   "outputs": [],
   "source": [
    "def genetic_algorithm(pop_size, mutation_rate, elite_ratio, biscuits_list, roll_defects, roll_size, max_iter, display):\n",
    "    \n",
    "    population = init_population(pop_size, roll_size)\n",
    "    \n",
    "    for i in range(max_iter):\n",
    "        population = evolve_pop(population, mutation_rate, elite_ratio, biscuits_list, roll_defects)\n",
    "        \n",
    "        if i % display == 0:\n",
    "            # Metric computation, remove 4 lines below to go faster\n",
    "            fitness_values = [fitness(ind, biscuits_list, roll_defects) for ind in population]\n",
    "            elite_idx = np.argsort(fitness_values)[-1]\n",
    "            elite = population[elite_idx]\n",
    "            print(f'Generation {i+1}: Best fitness {fitness_values[elite_idx]}')\n",
    "\n",
    "    fitness_values = [fitness(ind, biscuits_list, roll_defects) for ind in population]\n",
    "    elite_idx = np.argsort(fitness_values)[-1]\n",
    "    elite = population[elite_idx]\n",
    "    \n",
    "    return elite\n",
    "    "
   ]
  },
  {
   "cell_type": "code",
   "execution_count": 6,
   "id": "22deb6ad",
   "metadata": {},
   "outputs": [
    {
     "name": "stdout",
     "output_type": "stream",
     "text": [
      "(500, 2)\n"
     ]
    },
    {
     "data": {
      "text/html": [
       "<div>\n",
       "<style scoped>\n",
       "    .dataframe tbody tr th:only-of-type {\n",
       "        vertical-align: middle;\n",
       "    }\n",
       "\n",
       "    .dataframe tbody tr th {\n",
       "        vertical-align: top;\n",
       "    }\n",
       "\n",
       "    .dataframe thead th {\n",
       "        text-align: right;\n",
       "    }\n",
       "</style>\n",
       "<table border=\"1\" class=\"dataframe\">\n",
       "  <thead>\n",
       "    <tr style=\"text-align: right;\">\n",
       "      <th></th>\n",
       "      <th>x</th>\n",
       "      <th>class</th>\n",
       "    </tr>\n",
       "  </thead>\n",
       "  <tbody>\n",
       "    <tr>\n",
       "      <th>0</th>\n",
       "      <td>355.449335</td>\n",
       "      <td>c</td>\n",
       "    </tr>\n",
       "  </tbody>\n",
       "</table>\n",
       "</div>"
      ],
      "text/plain": [
       "            x class\n",
       "0  355.449335     c"
      ]
     },
     "execution_count": 6,
     "metadata": {},
     "output_type": "execute_result"
    }
   ],
   "source": [
    "df = pd.read_csv(\"defects.csv\")\n",
    "print(df.shape)\n",
    "df.head(1)"
   ]
  },
  {
   "cell_type": "code",
   "execution_count": 14,
   "id": "bc63d0a8",
   "metadata": {},
   "outputs": [],
   "source": [
    "# dict format -> id : (value, size, defects_threshold)\n",
    "\n",
    "biscuits_list = {\n",
    "    -1: (-1, 1, {\"a\":9, \"b\":9, \"c\":9}),\n",
    "     0: ( 3, 4, {\"a\":4, \"b\":2, \"c\":3}),\n",
    "     1: (12, 8, {\"a\":5, \"b\":4, \"c\":4}),\n",
    "     2: ( 1, 2, {\"a\":1, \"b\":2, \"c\":1}),\n",
    "     3: ( 8, 5, {\"a\":2, \"b\":3, \"c\":2}),\n",
    "}"
   ]
  },
  {
   "cell_type": "code",
   "execution_count": 8,
   "id": "3c635e4d",
   "metadata": {},
   "outputs": [],
   "source": [
    "roll_size = 500\n",
    "roll_defects = {i: {\"a\": 0, \"b\": 0, \"c\": 0} for i in range(roll_size)}\n",
    "for _, row in df.iterrows():\n",
    "    roll_defects[int(row[\"x\"])][row[\"class\"]] += 1"
   ]
  },
  {
   "cell_type": "code",
   "execution_count": 21,
   "id": "859340e6",
   "metadata": {},
   "outputs": [],
   "source": [
    "pop_size = 10000\n",
    "mutation_rate = 0.01\n",
    "elite_ratio = 0.1\n",
    "max_iter = 100\n",
    "display = 20"
   ]
  },
  {
   "cell_type": "code",
   "execution_count": 22,
   "id": "c6143c57",
   "metadata": {
    "scrolled": true
   },
   "outputs": [
    {
     "name": "stdout",
     "output_type": "stream",
     "text": [
      "Generation 1: Best fitness 301\n",
      "Generation 21: Best fitness 336\n",
      "Generation 41: Best fitness 343\n"
     ]
    },
    {
     "ename": "KeyboardInterrupt",
     "evalue": "",
     "output_type": "error",
     "traceback": [
      "\u001b[1;31m---------------------------------------------------------------------------\u001b[0m",
      "\u001b[1;31mKeyboardInterrupt\u001b[0m                         Traceback (most recent call last)",
      "Cell \u001b[1;32mIn[22], line 1\u001b[0m\n\u001b[1;32m----> 1\u001b[0m result \u001b[38;5;241m=\u001b[39m genetic_algorithm(pop_size, mutation_rate, elite_ratio, biscuits_list, roll_defects, roll_size, max_iter, display)\n",
      "Cell \u001b[1;32mIn[5], line 6\u001b[0m, in \u001b[0;36mgenetic_algorithm\u001b[1;34m(pop_size, mutation_rate, elite_ratio, biscuits_list, roll_defects, roll_size, max_iter, display)\u001b[0m\n\u001b[0;32m      3\u001b[0m population \u001b[38;5;241m=\u001b[39m init_population(pop_size, roll_size)\n\u001b[0;32m      5\u001b[0m \u001b[38;5;28;01mfor\u001b[39;00m i \u001b[38;5;129;01min\u001b[39;00m \u001b[38;5;28mrange\u001b[39m(max_iter):\n\u001b[1;32m----> 6\u001b[0m     population \u001b[38;5;241m=\u001b[39m evolve_pop(population, mutation_rate, elite_ratio, biscuits_list, roll_defects)\n\u001b[0;32m      8\u001b[0m     \u001b[38;5;28;01mif\u001b[39;00m i \u001b[38;5;241m%\u001b[39m display \u001b[38;5;241m==\u001b[39m \u001b[38;5;241m0\u001b[39m:\n\u001b[0;32m      9\u001b[0m         \u001b[38;5;66;03m# Metric computation, remove 4 lines below to go faster\u001b[39;00m\n\u001b[0;32m     10\u001b[0m         fitness_values \u001b[38;5;241m=\u001b[39m [fitness(ind, biscuits_list, roll_defects) \u001b[38;5;28;01mfor\u001b[39;00m ind \u001b[38;5;129;01min\u001b[39;00m population]\n",
      "Cell \u001b[1;32mIn[4], line 3\u001b[0m, in \u001b[0;36mevolve_pop\u001b[1;34m(population, mutation_rate, elite_ratio, biscuits_list, roll_defects)\u001b[0m\n\u001b[0;32m      1\u001b[0m \u001b[38;5;28;01mdef\u001b[39;00m \u001b[38;5;21mevolve_pop\u001b[39m(population, mutation_rate, elite_ratio, biscuits_list, roll_defects):\n\u001b[1;32m----> 3\u001b[0m     fitness_values \u001b[38;5;241m=\u001b[39m [fitness(ind, biscuits_list, roll_defects) \u001b[38;5;28;01mfor\u001b[39;00m ind \u001b[38;5;129;01min\u001b[39;00m population]\n\u001b[0;32m      5\u001b[0m     \u001b[38;5;66;03m# Shift fitness to make all values positive\u001b[39;00m\n\u001b[0;32m      6\u001b[0m     min_fitness \u001b[38;5;241m=\u001b[39m \u001b[38;5;28mmin\u001b[39m(fitness_values)\n",
      "Cell \u001b[1;32mIn[4], line 3\u001b[0m, in \u001b[0;36m<listcomp>\u001b[1;34m(.0)\u001b[0m\n\u001b[0;32m      1\u001b[0m \u001b[38;5;28;01mdef\u001b[39;00m \u001b[38;5;21mevolve_pop\u001b[39m(population, mutation_rate, elite_ratio, biscuits_list, roll_defects):\n\u001b[1;32m----> 3\u001b[0m     fitness_values \u001b[38;5;241m=\u001b[39m [fitness(ind, biscuits_list, roll_defects) \u001b[38;5;28;01mfor\u001b[39;00m ind \u001b[38;5;129;01min\u001b[39;00m population]\n\u001b[0;32m      5\u001b[0m     \u001b[38;5;66;03m# Shift fitness to make all values positive\u001b[39;00m\n\u001b[0;32m      6\u001b[0m     min_fitness \u001b[38;5;241m=\u001b[39m \u001b[38;5;28mmin\u001b[39m(fitness_values)\n",
      "Cell \u001b[1;32mIn[3], line 28\u001b[0m, in \u001b[0;36mfitness\u001b[1;34m(ind, biscuits_list, roll_defects)\u001b[0m\n\u001b[0;32m     26\u001b[0m                 score \u001b[38;5;241m+\u001b[39m\u001b[38;5;241m=\u001b[39m biscuits_list[elem][\u001b[38;5;241m0\u001b[39m]\n\u001b[0;32m     27\u001b[0m                 size \u001b[38;5;241m=\u001b[39m \u001b[38;5;241m0\u001b[39m\n\u001b[1;32m---> 28\u001b[0m     last_elem \u001b[38;5;241m=\u001b[39m elem\n\u001b[0;32m     29\u001b[0m score \u001b[38;5;241m-\u001b[39m\u001b[38;5;241m=\u001b[39m size  \u001b[38;5;66;03m# Don't forget to remove last biscuit pieces that are not whole\u001b[39;00m\n\u001b[0;32m     30\u001b[0m \u001b[38;5;28;01mreturn\u001b[39;00m score\n",
      "\u001b[1;31mKeyboardInterrupt\u001b[0m: "
     ]
    }
   ],
   "source": [
    "result = genetic_algorithm(pop_size, mutation_rate, elite_ratio, biscuits_list, roll_defects, roll_size, max_iter, display)"
   ]
  },
  {
   "cell_type": "code",
   "execution_count": 20,
   "id": "898ec6a1",
   "metadata": {},
   "outputs": [
    {
     "data": {
      "text/plain": [
       "array([-1.,  2.,  2.,  3.,  2.,  0.,  0.,  0.,  0., -1.,  2.,  0.,  0.,\n",
       "        2.,  2.,  0.,  2.,  2.,  3.,  0.,  0.,  0.,  0.,  0.,  0.,  0.,\n",
       "        0.,  1.,  0.,  0.,  0.,  0.,  0.,  0.,  0.,  0.,  0.,  0.,  0.,\n",
       "        0.,  0.,  0.,  0.,  0.,  0.,  0.,  0.,  0.,  0.,  0.,  0.,  0.,\n",
       "        0.,  0.,  0.,  0.,  0.,  0.,  0.,  0.,  0.,  0.,  0.,  0.,  0.,\n",
       "        0.,  0.,  0.,  0.,  0.,  0.,  0.,  0.,  0.,  0.,  0.,  0.,  0.,\n",
       "        0.,  0.,  0.,  0.,  0.,  0.,  0.,  0.,  0.,  0.,  0.,  0.,  0.,\n",
       "        0.,  0.,  0.,  0.,  0.,  0.,  0.,  0.,  0.,  0.,  0.,  0.,  0.,\n",
       "        0.,  0.,  0.,  0.,  0.,  0.,  0.,  0.,  0.,  0.,  0.,  0.,  0.,\n",
       "        0.,  0.,  0.,  0.,  0.,  0.,  0.,  0.,  0.,  0.,  0.,  0.,  0.,\n",
       "        0.,  0.,  0.,  0.,  0.,  0.,  0.,  0.,  0.,  0.,  0.,  0.,  0.,\n",
       "        0.,  0.,  0.,  0.,  0.,  0.,  0.,  0.,  0.,  0.,  0.,  0.,  0.,\n",
       "        0.,  0.,  0.,  0.,  0.,  0.,  0.,  0.,  0.,  0.,  0.,  0.,  0.,\n",
       "        0.,  0.,  0.,  0.,  0.,  0.,  0.,  0.,  0.,  0.,  0.,  0.,  0.,\n",
       "        0.,  0.,  0.,  0.,  0.,  0.,  0.,  0.,  0.,  0.,  0.,  0.,  0.,\n",
       "        0.,  0.,  3.,  0.,  0.,  0.,  0.,  0.,  0.,  0.,  0.,  0.,  0.,\n",
       "        0.,  0.,  0.,  0.,  0.,  0.,  0.,  0.,  0.,  0.,  0.,  0.,  0.,\n",
       "        0.,  0.,  0.,  0.,  0.,  0.,  0.,  0.,  0.,  0.,  0.,  0.,  0.,\n",
       "        0.,  0.,  0.,  0.,  0.,  0.,  0.,  0.,  0.,  0.,  0.,  0.,  0.,\n",
       "        0.,  0.,  0.,  0.,  0.,  0.,  0.,  0.,  0.,  0.,  0.,  0.,  0.,\n",
       "        0.,  0.,  0.,  0.,  0.,  0.,  0.,  0.,  0.,  0.,  0.,  0.,  0.,\n",
       "        0.,  0.,  0.,  0.,  0.,  0.,  0.,  0.,  0.,  0.,  0.,  0.,  0.,\n",
       "        0.,  0.,  0.,  0.,  0.,  0.,  0.,  0.,  0.,  0.,  0.,  0.,  0.,\n",
       "        0.,  0.,  0.,  0.,  0.,  0.,  0.,  0.,  0.,  0.,  0.,  0.,  0.,\n",
       "        0.,  0.,  0.,  0.,  0.,  0.,  0.,  0.,  0.,  0.,  0.,  0.,  0.,\n",
       "        0.,  0.,  0.,  0.,  0.,  0.,  0.,  0.,  0.,  0.,  0.,  0.,  0.,\n",
       "        0.,  0.,  0.,  0.,  0., -1.,  0.,  0.,  0.,  0.,  0.,  0.,  0.,\n",
       "        0.,  0.,  0.,  0.,  0.,  0.,  0.,  0.,  0.,  0.,  0.,  0.,  0.,\n",
       "        0.,  0.,  0.,  0.,  0.,  0.,  0.,  0.,  0.,  0.,  0.,  0.,  0.,\n",
       "        0.,  0.,  0.,  0.,  0.,  0.,  0.,  0.,  0.,  0.,  0.,  0.,  0.,\n",
       "        0.,  0.,  0.,  0.,  0.,  0.,  0.,  0.,  0.,  0.,  0.,  0.,  0.,\n",
       "        0.,  0.,  0.,  0.,  0.,  0.,  0.,  0.,  0.,  0.,  0.,  0.,  0.,\n",
       "        0.,  0.,  0.,  0.,  0.,  0.,  0.,  0.,  0.,  0.,  0.,  0.,  0.,\n",
       "        0.,  0.,  0.,  0.,  0.,  0.,  0.,  0.,  0.,  0.,  0.,  0.,  0.,\n",
       "        0.,  0.,  0.,  0.,  0.,  0.,  0.,  0.,  0.,  0.,  0.,  0.,  0.,\n",
       "        0.,  0.,  0.,  0.,  0.,  0.,  0.,  0.,  0.,  0.,  0.,  0.,  0.,\n",
       "        0.,  0.,  0.,  0.,  0.,  0.,  0.,  0.,  0.,  0.,  0.,  0.,  0.,\n",
       "        0.,  0.,  0.,  0.,  0.,  0.,  0.,  0.,  0.,  0.,  0.,  0.,  0.,\n",
       "        0.,  0.,  0.,  0.,  0.,  0.])"
      ]
     },
     "execution_count": 20,
     "metadata": {},
     "output_type": "execute_result"
    }
   ],
   "source": [
    "result"
   ]
  },
  {
   "cell_type": "code",
   "execution_count": 15,
   "id": "9e44f68f",
   "metadata": {},
   "outputs": [
    {
     "data": {
      "text/plain": [
       "618"
      ]
     },
     "execution_count": 15,
     "metadata": {},
     "output_type": "execute_result"
    }
   ],
   "source": [
    "fitness(np.full((500,), 3), biscuits_list, roll_defects)"
   ]
  },
  {
   "cell_type": "code",
   "execution_count": null,
   "id": "8548e9ca",
   "metadata": {},
   "outputs": [],
   "source": []
  }
 ],
 "metadata": {
  "kernelspec": {
   "display_name": "Python 3 (ipykernel)",
   "language": "python",
   "name": "python3"
  },
  "language_info": {
   "codemirror_mode": {
    "name": "ipython",
    "version": 3
   },
   "file_extension": ".py",
   "mimetype": "text/x-python",
   "name": "python",
   "nbconvert_exporter": "python",
   "pygments_lexer": "ipython3",
   "version": "3.11.5"
  }
 },
 "nbformat": 4,
 "nbformat_minor": 5
}
