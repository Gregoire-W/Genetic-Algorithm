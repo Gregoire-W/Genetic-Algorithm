{
 "cells": [
  {
   "cell_type": "code",
   "execution_count": 427,
   "id": "baa8d0e3",
   "metadata": {},
   "outputs": [],
   "source": [
    "import numpy as np\n",
    "import random\n",
    "import pandas as pd"
   ]
  },
  {
   "cell_type": "code",
   "execution_count": 428,
   "id": "02da3ba4",
   "metadata": {},
   "outputs": [],
   "source": [
    "np.random.seed(2)\n",
    "random.seed(2)"
   ]
  },
  {
   "cell_type": "code",
   "execution_count": 429,
   "id": "45d547d2",
   "metadata": {},
   "outputs": [],
   "source": [
    "def init_population(pop_size, roll_size):\n",
    "    \n",
    "    return [np.random.randint(-1, 4, size=(roll_size,)) for _ in range(pop_size)]"
   ]
  },
  {
   "cell_type": "code",
   "execution_count": 430,
   "id": "2ec2e892-4ee6-4dd7-aba2-854b6e0589df",
   "metadata": {},
   "outputs": [],
   "source": [
    "def respect_defects(threshold, start, end, roll_defects):\n",
    "    pos_defects = {\"a\": 0, \"b\": 0, \"c\": 0}\n",
    "    for pos in range(start, end):\n",
    "        for key in roll_defects[pos]:\n",
    "            pos_defects[key] += (roll_defects[pos][key])\n",
    "    return all(threshold[key] >= pos_defects[key] for key in pos_defects.keys())"
   ]
  },
  {
   "cell_type": "code",
   "execution_count": 431,
   "id": "a1b5336c",
   "metadata": {},
   "outputs": [],
   "source": [
    "def fitness(ind, biscuits_list, roll_defects):\n",
    "    \n",
    "    score = 0\n",
    "    size = 0\n",
    "    last_elem = -2  # So we don't have to check if we test the first value of the list each iteration doing ind[i-1]\n",
    "    for i, elem in enumerate(ind):\n",
    "        if elem == -1:  # If no biscuit value no need to test anymore\n",
    "            score -= (1 + size)\n",
    "            size = 0\n",
    "        else:\n",
    "            if elem != last_elem:\n",
    "                score -= size\n",
    "                size = 1\n",
    "            else:\n",
    "                size += 1\n",
    "            if size == biscuits_list[elem][\"size\"]:  # Test the defects only if the biscuit reach its required size\n",
    "                if respect_defects(biscuits_list[elem][\"threshold\"], i - size + 1, i + 1, roll_defects):\n",
    "                    score += biscuits_list[elem][\"value\"]\n",
    "                    size = 0\n",
    "                else:\n",
    "                    score -= 1\n",
    "                    size -= 1\n",
    "        last_elem = elem\n",
    "    score -= size  # Don't forget to remove last biscuit pieces that are not whole\n",
    "    return score"
   ]
  },
  {
   "cell_type": "code",
   "execution_count": 440,
   "id": "33ed7692-6297-4240-a9bc-d4ae8eb85f1f",
   "metadata": {},
   "outputs": [],
   "source": [
    "def get_slice_score(position, size, lb_size, lb_value, lb_threshold):  # lb stands for last biscuit\n",
    "    score = 0\n",
    "    unassigned = [i for i in range(position - size, position)]  # Ensure we give a value to every biscuit of the last biscuit type \n",
    "    last_size = min(lb_size, size)\n",
    "    while unassigned and last_size != 0:  # While we don't have assigned a value for every last position\n",
    "        j = 0\n",
    "        assigned = []\n",
    "        while j <= len(unassigned) - last_size:\n",
    "            pos = unassigned[j]\n",
    "            start = pos  # Start of the continuation of the previous value\n",
    "            end = pos + last_size\n",
    "            if all(elem in unassigned for elem in range(start, end)):\n",
    "                if respect_defects(lb_threshold, start, end, roll_defects):\n",
    "                    score += (last_size/lb_size)**2 * lb_value  # the closer the biscuit is to its full size, the more importance is given to it\n",
    "                    for rem in range(start, end):\n",
    "                        assigned.append(rem)\n",
    "                    j += last_size - 1  # Put -1 because there is a j+=1 at the end of the loop anw \n",
    "            j+=1\n",
    "        for assi in  assigned:\n",
    "            unassigned.remove(assi) \n",
    "        last_size -= 1\n",
    "    score -= len(unassigned)  # -1 For all element that do not respect defects even alone\n",
    "    return score"
   ]
  },
  {
   "cell_type": "code",
   "execution_count": 433,
   "id": "a3d97b57-096a-461a-aec4-6a5485fe0def",
   "metadata": {},
   "outputs": [],
   "source": [
    "# We can try to give more importants to biscuits that aren't full but almost\n",
    "def fitness_2(ind, biscuits_list, roll_defects):\n",
    "    \n",
    "    score = 0\n",
    "    size = 0\n",
    "    last_elem = ind[0]  # So we don't have to check if we test the first value of the list each iteration doing ind[i-1]\n",
    "    for i, elem in enumerate(ind):\n",
    "        if elem == last_elem:\n",
    "            size += 1\n",
    "        else:\n",
    "            if last_elem == -1:\n",
    "                score -= size\n",
    "            else:\n",
    "                slice_score = get_slice_score(i, size, biscuits_list[last_elem][\"size\"], biscuits_list[last_elem][\"value\"], biscuits_list[last_elem][\"threshold\"])\n",
    "                score += slice_score\n",
    "            size = 1\n",
    "        last_elem = elem\n",
    "    score += get_slice_score(len(ind), size, biscuits_list[last_elem][\"size\"], biscuits_list[last_elem][\"value\"], biscuits_list[last_elem][\"threshold\"])\n",
    "                \n",
    "    return score"
   ]
  },
  {
   "cell_type": "code",
   "execution_count": 434,
   "id": "a6dd84d5",
   "metadata": {},
   "outputs": [],
   "source": [
    "def evolve_pop(population, mutation_rate, elite_ratio, biscuits_list, roll_defects, fitness):\n",
    "    fitness_values = [fitness(ind, biscuits_list, roll_defects) for ind in population]\n",
    "\n",
    "    min_fitness = min(fitness_values)\n",
    "    shifted_fitness = [f - min_fitness + 1 for f in fitness_values]  # Add 1 to avoid zero fitness\n",
    "\n",
    "    fitness_sum = sum(shifted_fitness)\n",
    "    probabilities = [f / fitness_sum for f in shifted_fitness]\n",
    "    \n",
    "    elite_idx = np.argsort(fitness_values)[int(-len(population) * elite_ratio):]\n",
    "    \n",
    "    elites = [population[i] for i in elite_idx]\n",
    "\n",
    "    new_population = []\n",
    "    while len(new_population) < len(population) - len(elites):\n",
    "        \n",
    "        # Cross over\n",
    "        # Select two parents based on fitness probabilities\n",
    "        parents_indices = np.random.choice(len(population), size=2, replace=False, p=probabilities)\n",
    "        parent1 = population[parents_indices[0]]\n",
    "        parent2 = population[parents_indices[1]]\n",
    "\n",
    "        child = np.zeros(parent1.shape)\n",
    "        break_points = np.random.choice(len(parent1), size=3, replace=False)\n",
    "        break_points = np.insert(break_points, 0, [0, len(parent1)])\n",
    "        break_points.sort()\n",
    "        #slices = [(break_points[i], break_points[i+1]) for i in range(len(break_points)-1)]\n",
    "        for i in range(len(break_points)-1):\n",
    "            start = break_points[i]\n",
    "            end = break_points[i+1]\n",
    "            chosen_p = parent1 if random.random() < 0.5 else parent2\n",
    "            child[start:end] = chosen_p[start:end]\n",
    "\n",
    "        # Mutation\n",
    "        muted_child = np.array([gene if random.random() > mutation_rate else random.randint(-1, 3) for gene in child] )\n",
    "\n",
    "        new_population.append(muted_child)\n",
    "        \n",
    "    return new_population + elites"
   ]
  },
  {
   "cell_type": "code",
   "execution_count": 435,
   "id": "5f621645",
   "metadata": {},
   "outputs": [],
   "source": [
    "def genetic_algorithm(pop_size, mutation_rate, elite_ratio, biscuits_list, roll_defects, roll_size, max_iter, display, fitness):\n",
    "    \n",
    "    population = init_population(pop_size, roll_size)\n",
    "    \n",
    "    for i in range(max_iter):\n",
    "        population = evolve_pop(population, mutation_rate, elite_ratio, biscuits_list, roll_defects, fitness)\n",
    "        \n",
    "        if (i+1) % display == 0:\n",
    "            # Metric computation, remove 4 lines below to go faster\n",
    "            fitness_values = [fitness(ind, biscuits_list, roll_defects) for ind in population]\n",
    "            elite_idx = np.argsort(fitness_values)[-1]\n",
    "            elite = population[elite_idx]\n",
    "            print(f'Generation {i+1}: Best fitness {fitness_values[elite_idx]}')\n",
    "\n",
    "    fitness_values = [fitness(ind, biscuits_list, roll_defects) for ind in population]\n",
    "    elite_idx = np.argsort(fitness_values)[-1]\n",
    "    elite = population[elite_idx]\n",
    "    \n",
    "    return elite\n",
    "    "
   ]
  },
  {
   "cell_type": "code",
   "execution_count": 436,
   "id": "22deb6ad",
   "metadata": {},
   "outputs": [
    {
     "name": "stdout",
     "output_type": "stream",
     "text": [
      "(500, 2)\n"
     ]
    },
    {
     "data": {
      "text/html": [
       "<div>\n",
       "<style scoped>\n",
       "    .dataframe tbody tr th:only-of-type {\n",
       "        vertical-align: middle;\n",
       "    }\n",
       "\n",
       "    .dataframe tbody tr th {\n",
       "        vertical-align: top;\n",
       "    }\n",
       "\n",
       "    .dataframe thead th {\n",
       "        text-align: right;\n",
       "    }\n",
       "</style>\n",
       "<table border=\"1\" class=\"dataframe\">\n",
       "  <thead>\n",
       "    <tr style=\"text-align: right;\">\n",
       "      <th></th>\n",
       "      <th>x</th>\n",
       "      <th>class</th>\n",
       "    </tr>\n",
       "  </thead>\n",
       "  <tbody>\n",
       "    <tr>\n",
       "      <th>479</th>\n",
       "      <td>0.700561</td>\n",
       "      <td>a</td>\n",
       "    </tr>\n",
       "  </tbody>\n",
       "</table>\n",
       "</div>"
      ],
      "text/plain": [
       "            x class\n",
       "479  0.700561     a"
      ]
     },
     "execution_count": 436,
     "metadata": {},
     "output_type": "execute_result"
    }
   ],
   "source": [
    "df = pd.read_csv(\"defects.csv\")\n",
    "print(df.shape)\n",
    "df = df.sort_values(by=\"x\")\n",
    "df.head(1)"
   ]
  },
  {
   "cell_type": "code",
   "execution_count": 437,
   "id": "bc63d0a8",
   "metadata": {},
   "outputs": [],
   "source": [
    "# dict format -> id : (value, size, defects_threshold)\n",
    "\n",
    "biscuits_list = {\n",
    "    -1: ({\"value\": -1, \"size\": 1, \"threshold\": {\"a\":9, \"b\":9, \"c\":9}}),\n",
    "     0: ({\"value\":  3, \"size\": 4, \"threshold\": {\"a\":4, \"b\":2, \"c\":3}}),\n",
    "     1: ({\"value\": 12, \"size\": 8, \"threshold\": {\"a\":5, \"b\":4, \"c\":4}}),\n",
    "     2: ({\"value\":  1, \"size\": 2, \"threshold\": {\"a\":1, \"b\":2, \"c\":1}}),\n",
    "     3: ({\"value\":  8, \"size\": 5, \"threshold\": {\"a\":4, \"b\":2, \"c\":3}}),\n",
    "}"
   ]
  },
  {
   "cell_type": "code",
   "execution_count": 438,
   "id": "3c635e4d",
   "metadata": {},
   "outputs": [],
   "source": [
    "roll_size = 500\n",
    "roll_defects = {i: {\"a\": 0, \"b\": 0, \"c\": 0} for i in range(roll_size)}\n",
    "for _, row in df.iterrows():\n",
    "    if int(row[\"x\"]) >= roll_size:\n",
    "        break\n",
    "    roll_defects[int(row[\"x\"])][row[\"class\"]] += 1"
   ]
  },
  {
   "cell_type": "code",
   "execution_count": 441,
   "id": "859340e6",
   "metadata": {},
   "outputs": [],
   "source": [
    "pop_size = 1000\n",
    "mutation_rate = 0.02\n",
    "elite_ratio = 0.1\n",
    "max_iter = 200\n",
    "display = max_iter // 10"
   ]
  },
  {
   "cell_type": "code",
   "execution_count": 442,
   "id": "c6143c57",
   "metadata": {
    "scrolled": true
   },
   "outputs": [
    {
     "name": "stdout",
     "output_type": "stream",
     "text": [
      "Generation 20: Best fitness 164.14249999999984\n",
      "Generation 40: Best fitness 232.14499999999984\n",
      "Generation 60: Best fitness 276.4324999999997\n",
      "Generation 80: Best fitness 315.6924999999998\n",
      "Generation 100: Best fitness 343.7649999999998\n",
      "Generation 120: Best fitness 371.32749999999976\n",
      "Generation 140: Best fitness 401.56999999999977\n",
      "Generation 160: Best fitness 404.19499999999977\n",
      "Generation 180: Best fitness 408.69249999999994\n",
      "Generation 200: Best fitness 415.0874999999998\n"
     ]
    }
   ],
   "source": [
    "result = genetic_algorithm(pop_size, mutation_rate, elite_ratio, biscuits_list, roll_defects, roll_size, max_iter, display, fitness_2)"
   ]
  },
  {
   "cell_type": "code",
   "execution_count": 443,
   "id": "898ec6a1",
   "metadata": {},
   "outputs": [
    {
     "data": {
      "text/plain": [
       "array([ 3.,  2.,  0.,  2.,  3.,  3.,  3.,  0.,  3.,  3.,  3.,  3.,  0.,\n",
       "        3.,  3.,  3.,  3.,  2.,  0.,  1.,  1.,  1.,  1.,  1.,  1.,  1.,\n",
       "        1.,  0.,  2.,  1.,  3.,  3.,  3.,  2.,  2.,  1.,  3.,  3.,  2.,\n",
       "        1.,  2.,  0.,  3.,  3.,  3.,  3.,  1.,  0.,  1.,  2.,  3.,  3.,\n",
       "        2.,  3.,  3.,  1.,  2.,  3.,  3.,  3.,  3.,  3.,  3.,  1.,  3.,\n",
       "        3.,  0.,  3.,  1.,  3.,  3.,  3.,  3.,  3.,  3.,  3.,  3.,  3.,\n",
       "        3.,  0.,  2.,  3.,  3.,  3.,  3.,  3.,  3., -1.,  0.,  3.,  1.,\n",
       "        0.,  3.,  3., -1.,  3.,  2.,  1.,  1.,  1.,  3.,  1.,  1.,  2.,\n",
       "        2.,  1.,  3.,  3.,  3.,  0.,  0.,  1.,  3.,  3.,  3.,  3.,  3.,\n",
       "        0.,  0.,  3., -1.,  3.,  3.,  3.,  3.,  3.,  2.,  1.,  1.,  0.,\n",
       "        3.,  3.,  3.,  3.,  3.,  2.,  2.,  0.,  0.,  2.,  3.,  3.,  3.,\n",
       "        3.,  3.,  1.,  1.,  1.,  3.,  3.,  3.,  3.,  3.,  0.,  2.,  1.,\n",
       "        1.,  1.,  1.,  1.,  1.,  1.,  1.,  1.,  1.,  1.,  1.,  1.,  3.,\n",
       "        3.,  3.,  0., -1.,  3.,  3.,  2.,  3.,  3.,  3.,  3.,  3.,  2.,\n",
       "        1.,  1.,  1.,  0.,  3.,  1.,  1.,  1.,  1.,  1., -1., -1.,  2.,\n",
       "        1.,  3.,  3.,  3.,  3.,  3.,  2.,  2.,  2.,  3.,  1.,  2.,  3.,\n",
       "        3.,  3.,  3.,  3.,  3.,  2.,  2.,  3.,  3.,  3.,  3.,  3.,  2.,\n",
       "        3.,  2.,  3.,  3.,  1.,  3.,  0.,  0.,  3.,  2.,  1.,  1.,  1.,\n",
       "        1.,  1.,  3.,  3.,  3.,  3.,  1., -1.,  1.,  0.,  0.,  3.,  3.,\n",
       "        1.,  3., -1.,  2.,  0.,  0.,  2.,  1.,  2.,  3.,  3.,  0.,  0.,\n",
       "        3.,  3.,  3.,  3.,  3.,  1.,  0.,  0.,  0., -1.,  3.,  3.,  3.,\n",
       "        3.,  3.,  1.,  2.,  3.,  3.,  1.,  1.,  1.,  1.,  1.,  1.,  1.,\n",
       "        0.,  1.,  0.,  2.,  3.,  3., -1.,  2.,  0.,  1.,  2.,  1.,  1.,\n",
       "        1.,  1.,  1.,  1.,  1.,  1.,  0.,  3.,  3.,  0.,  0.,  3.,  0.,\n",
       "        2.,  3.,  3.,  3.,  3.,  3.,  2.,  3.,  0.,  2.,  1.,  3.,  3.,\n",
       "        3.,  3.,  0.,  3.,  3.,  3.,  3.,  3.,  0., -1.,  3.,  3.,  3.,\n",
       "        3.,  3.,  3.,  3.,  3.,  3.,  3.,  3.,  3.,  3.,  3.,  0.,  1.,\n",
       "        1.,  3.,  1.,  3.,  3.,  0.,  0.,  2.,  2.,  2.,  2.,  3.,  3.,\n",
       "        3.,  3.,  3.,  2.,  2.,  2.,  2.,  1.,  1.,  1.,  1.,  1., -1.,\n",
       "        1.,  3.,  0., -1.,  3.,  3.,  1.,  1.,  1.,  2.,  2.,  2.,  0.,\n",
       "        1.,  3.,  3.,  3.,  3.,  3.,  0.,  1.,  1.,  1.,  1.,  1., -1.,\n",
       "        0.,  1.,  2.,  3.,  3.,  3.,  3.,  2.,  2.,  3.,  3.,  3.,  3.,\n",
       "        3.,  3.,  3.,  3.,  3.,  3.,  3.,  3.,  3.,  3.,  3.,  3.,  3.,\n",
       "        1.,  1.,  1.,  1.,  1.,  1.,  1.,  3.,  0., -1.,  2.,  1.,  3.,\n",
       "        1.,  3.,  3.,  3.,  3.,  3.,  1.,  0.,  2.,  2.,  1.,  2.,  0.,\n",
       "        0.,  0.,  0.,  0.,  0.,  0.,  0.,  2.,  3.,  3.,  3.,  3.,  3.,\n",
       "        2.,  3.,  3.,  3.,  3.,  1.,  3.,  3.,  3.,  3.,  3.,  3.,  2.,\n",
       "        3.,  1.,  3., -1.,  1.,  3.,  3.,  3.,  3.,  3., -1.,  2.,  1.,\n",
       "        2.,  3.,  3.,  3.,  3.,  3.])"
      ]
     },
     "execution_count": 443,
     "metadata": {},
     "output_type": "execute_result"
    }
   ],
   "source": [
    "result"
   ]
  },
  {
   "cell_type": "code",
   "execution_count": null,
   "id": "2c9a5d95-28ee-4cca-9334-50165b647aa1",
   "metadata": {},
   "outputs": [
    {
     "name": "stdout",
     "output_type": "stream",
     "text": [
      "get_slice_score from 1 to 5 with size: 4\n",
      "try pos : 1 for size: 4\n",
      "assigned :  1  in a biscuit size:   4\n",
      "assigned :  2  in a biscuit size:   4\n",
      "assigned :  3  in a biscuit size:   4\n",
      "assigned :  4  in a biscuit size:   4\n",
      "get_slice_score from 5 to 6 with size: 1\n",
      "try pos : 5 for size: 1\n",
      "assigned :  5  in a biscuit size:   1\n",
      "get_slice_score from 6 to 9 with size: 3\n",
      "try pos : 6 for size: 3\n",
      "assigned :  6  in a biscuit size:   3\n",
      "assigned :  7  in a biscuit size:   3\n",
      "assigned :  8  in a biscuit size:   3\n",
      "get_slice_score from 9 to 10 with size: 1\n",
      "try pos : 9 for size: 1\n",
      "assigned :  9  in a biscuit size:   1\n"
     ]
    },
    {
     "data": {
      "text/plain": [
       "5.057500000000001"
      ]
     },
     "execution_count": 423,
     "metadata": {},
     "output_type": "execute_result"
    }
   ],
   "source": [
    "# Example fitness_2\n",
    "fitness_2([-1, 3, 3, 3, 3, 2, 0, 0, 0, -1], biscuits_list, roll_defects)"
   ]
  },
  {
   "cell_type": "code",
   "execution_count": null,
   "id": "0c14bad5-208a-45b9-aa03-7ac59bcc4954",
   "metadata": {},
   "outputs": [],
   "source": []
  }
 ],
 "metadata": {
  "kernelspec": {
   "display_name": "cf_gregoire",
   "language": "python",
   "name": "cf_gregoire"
  },
  "language_info": {
   "codemirror_mode": {
    "name": "ipython",
    "version": 3
   },
   "file_extension": ".py",
   "mimetype": "text/x-python",
   "name": "python",
   "nbconvert_exporter": "python",
   "pygments_lexer": "ipython3",
   "version": "3.10.4"
  }
 },
 "nbformat": 4,
 "nbformat_minor": 5
}
