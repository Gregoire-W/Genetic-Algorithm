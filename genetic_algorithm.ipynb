{
 "cells": [
  {
   "cell_type": "markdown",
   "id": "c6bb6a7a",
   "metadata": {},
   "source": [
    "# Value Maximisation with Genetic Algorithms 🧬\n",
    "\n",
    "---\n",
    "\n",
    "## Summary\n",
    "\n",
    "- [1. Problem Introduction](#problem-introduction)\n",
    "- [2. Genetic Algorithms Presentation](#genetic-algorithms-presentation)\n",
    "- [3. Problem Implementation](#problem-implementation)\n",
    "- [4. Resolution and Fitness Comparison](#resolution-and-fitness-comparison)\n",
    "- [5. Is Genetic Algorithms Good for This Problem?](#is-genetic-algorithms-good-for-this-problem)\n",
    "\n",
    "---\n",
    "<a name=\"problem-introduction\"></a>\n",
    "## 1. Problem Introduction\n",
    "\n",
    "### Biscuit manufacturing factory problem 🍪\n",
    "A biscuit manufacturing factory is gearing up for the festive season by producing a variety of biscuits. The challenge? Maximising biscuit production and profit from a single roll of dough. Here’s the breakdown:\n",
    "\n",
    "### Key Information: \n",
    "- **Dough Roll Properties**:\n",
    "  - A predefined rectangular length, denoted as **‘LENGTH’** (one-dimensional problem).\n",
    "  - Contains **defects** at specific positions (**x**) and of various types (**a**, **b**, **c**, etc.).\n",
    "\n",
    "- **Biscuits**:\n",
    "  - Can be produced in infinite quantities.\n",
    "  - Have specific **sizes**, **values**, and **defect thresholds** (maximum allowable defects of each class).\n",
    "\n",
    "### Constraints: \n",
    "1. **Placement Rules**:\n",
    "   - Biscuits must be placed at **integer positions**.\n",
    "   - **No overlapping**: Positions occupied by one biscuit cannot be used by another.\n",
    "2. **Defect Tolerance**:\n",
    "   - A biscuit’s defect limits must not be exceeded for the positions it covers.\n",
    "3. **Length Limitation**:\n",
    "   - The total size of the biscuits cannot exceed the dough roll’s length.\n",
    "\n",
    "### Solution Value: \n",
    "- The value of a solution = **sum of biscuit values** – **penalty for unused dough** (-1 per empty position).\n",
    "\n",
    "### Project Benchmark:\n",
    "- **Roll Length**: 500 units.\n",
    "- **Defects**: 3 classes (a, b, c), details in `defects.csv`.\n",
    "- **Biscuits**:  \n",
    "\n",
    "| Biscuit   | Length | Value | Defects (a, b, c) |\n",
    "|-----------|--------|-------|-------------------|\n",
    "| Biscuit 0 | 4      | 3     | (4, 2, 3)        |\n",
    "| Biscuit 1 | 8      | 12    | (5, 4, 4)        |\n",
    "| Biscuit 2 | 2      | 1     | (1, 2, 1)        |\n",
    "| Biscuit 3 | 5      | 8     | (2, 3, 2)        |\n",
    "\n",
    "---\n",
    "<a name=\"genetic-algorithms-presentation\"></a>\n",
    "## 2. Genetic Algorithms Presentation 🧬🔄\n",
    "\n",
    "### What are Genetic Algorithms (GAs)?\n",
    "Genetic Algorithms (GAs) are optimisation techniques inspired by **natural selection**. They simulate the process of evolution to find solutions to complex problems. GAs are particularly effective for large search spaces and problems with multiple constraints.\n",
    "\n",
    "### Key Steps in GAs:\n",
    "1. **Initialisation** 🔄:\n",
    "   - Start with a randomly generated population of potential solutions.\n",
    "\n",
    "2. **Evaluation** 💯:\n",
    "   - Calculate the fitness of each solution (e.g., total value of biscuits – penalties).\n",
    "\n",
    "3. **Selection** 🥇:\n",
    "   - Choose the best solutions based on fitness to form the next generation.\n",
    "\n",
    "4. **Crossover** 🔗:\n",
    "   - Combine parts of two solutions (parents) to produce new solutions (children).\n",
    "\n",
    "5. **Mutation** 🍀:\n",
    "   - Introduce small changes to solutions to explore new possibilities.\n",
    "\n",
    "6. **Termination** ⏳:\n",
    "   - Stop when a satisfactory solution is found or after a predefined number of generations.\n",
    "\n",
    "---\n",
    "<a name=\"problem-implementation\"></a>\n",
    "## 3. Problem Implementation ⚙️\n"
   ]
  },
  {
   "cell_type": "code",
   "execution_count": 1,
   "id": "baa8d0e3",
   "metadata": {},
   "outputs": [],
   "source": [
    "import numpy as np\n",
    "import random\n",
    "import pandas as pd"
   ]
  },
  {
   "cell_type": "markdown",
   "id": "ce0a5a3b",
   "metadata": {},
   "source": [
    "1. **Initialisation** 🔄  \n",
    "An individual is made up of a list the size of the roll. Each item corresponds to a piece of biscuit placed at a position on the roll."
   ]
  },
  {
   "cell_type": "code",
   "execution_count": 2,
   "id": "45d547d2",
   "metadata": {},
   "outputs": [],
   "source": [
    "def init_population(pop_size, roll_size):\n",
    "    \n",
    "    return [np.random.randint(-1, 4, size=(roll_size,)) for _ in range(pop_size)]"
   ]
  },
  {
   "cell_type": "markdown",
   "id": "d2df6543",
   "metadata": {},
   "source": [
    "2. **Evaluation** 💯   \n",
    "We'll start by defining a classic evaluation method based on our constraints"
   ]
  },
  {
   "cell_type": "code",
   "execution_count": 3,
   "id": "2ec2e892-4ee6-4dd7-aba2-854b6e0589df",
   "metadata": {},
   "outputs": [],
   "source": [
    "# Short method to check if a biscuit can be put in a certain position\n",
    "def respect_defects(threshold, start, end, roll_defects):\n",
    "    pos_defects = {\"a\": 0, \"b\": 0, \"c\": 0}\n",
    "    for pos in range(start, end):\n",
    "        for key in roll_defects[pos]:\n",
    "            pos_defects[key] += (roll_defects[pos][key])\n",
    "    return all(threshold[key] >= pos_defects[key] for key in pos_defects.keys())"
   ]
  },
  {
   "cell_type": "code",
   "execution_count": 4,
   "id": "a1b5336c",
   "metadata": {},
   "outputs": [],
   "source": [
    "# Basic fitness method, each whole biscuit adds its value to the total, and each position with a non-whole biscuit loses -1.\n",
    "def fitness_1(ind, biscuits_list, roll_defects):\n",
    "    \n",
    "    score = 0\n",
    "    size = 0\n",
    "    last_elem = -2  # So we don't have to check if we test the first value of the list each iteration doing ind[i-1]\n",
    "    for i, elem in enumerate(ind):\n",
    "        if elem == -1:  # If \"no biscuit value\" no need to test anymore\n",
    "            score -= (1 + size)\n",
    "            size = 0\n",
    "        else:\n",
    "            if elem != last_elem:\n",
    "                score -= size\n",
    "                size = 1\n",
    "            else:\n",
    "                size += 1\n",
    "            if size == biscuits_list[elem][\"size\"]:  # Test the defects only if the biscuit reach its required size\n",
    "                if respect_defects(biscuits_list[elem][\"threshold\"], i - size + 1, i + 1, roll_defects):\n",
    "                    score += biscuits_list[elem][\"value\"]\n",
    "                    size = 0\n",
    "                else:\n",
    "                    score -= 1\n",
    "                    size -= 1\n",
    "        last_elem = elem\n",
    "    score -= size  # Don't forget to remove last biscuit pieces that are not whole\n",
    "    return score"
   ]
  },
  {
   "cell_type": "markdown",
   "id": "fdecadb4",
   "metadata": {},
   "source": [
    "The previous method can be a little simple to achieve good results. We can implement a second method that gives more weight to biscuits that are almost whole (instead of subtracting -1 for each piece).  \n",
    "For example, a type 3 biscuit have a size of 5 and a value of 8. In our first method, if only 3 pieces of biscuit 3 are aligned, they will have a score of -3. In this method, they will have a score of 8 * 3/5^2.  \n",
    "**The main formula will be:**  \n",
    "(total value) * (proportion of biscuit)^2 "
   ]
  },
  {
   "cell_type": "code",
   "execution_count": 5,
   "id": "33ed7692-6297-4240-a9bc-d4ae8eb85f1f",
   "metadata": {},
   "outputs": [],
   "source": [
    "# Returns the score of a slice of 'size' number of biscuit with the same type \n",
    "def get_slice_score(position, size, lb_size, lb_value, lb_threshold, roll_defects):  # lb stands for last biscuit\n",
    "    score = 0\n",
    "    unassigned = [i for i in range(position - size, position)]  # Ensure we give a value to every biscuit of the last biscuit type \n",
    "    last_size = min(lb_size, size)\n",
    "    while unassigned and last_size != 0:  # While we don't have assigned a value for every last position\n",
    "        j = 0\n",
    "        assigned = []\n",
    "        while j <= len(unassigned) - last_size:\n",
    "            pos = unassigned[j]\n",
    "            start = pos  # Start of the continuation of the previous value\n",
    "            end = pos + last_size\n",
    "            if all(elem in unassigned for elem in range(start, end)):\n",
    "                if respect_defects(lb_threshold, start, end, roll_defects):\n",
    "                    score += (last_size/lb_size)**2 * lb_value  # the closer the biscuit is to its full size, the more importance is given to it\n",
    "                    for rem in range(start, end):\n",
    "                        assigned.append(rem)\n",
    "                    j += last_size - 1  # Put -1 because there is a j+=1 at the end of the loop anw \n",
    "            j+=1\n",
    "        for assi in  assigned:\n",
    "            unassigned.remove(assi) \n",
    "        last_size -= 1\n",
    "    score -= len(unassigned)  # -1 For all element that do not respect defects even alone\n",
    "    return score"
   ]
  },
  {
   "cell_type": "code",
   "execution_count": 6,
   "id": "a3d97b57-096a-461a-aec4-6a5485fe0def",
   "metadata": {},
   "outputs": [],
   "source": [
    "# fitness method that give more importants to biscuits that aren't full but almost\n",
    "def fitness_2(ind, biscuits_list, roll_defects):\n",
    "    \n",
    "    score = 0\n",
    "    size = 0\n",
    "    last_elem = ind[0]  # So we don't have to check if we test the first value of the list each iteration doing ind[i-1]\n",
    "    for i, elem in enumerate(ind):\n",
    "        if elem == last_elem:\n",
    "            size += 1\n",
    "        else:\n",
    "            if last_elem == -1:\n",
    "                score -= size\n",
    "            else:\n",
    "                slice_score = get_slice_score(i, size, biscuits_list[last_elem][\"size\"], biscuits_list[last_elem][\"value\"], biscuits_list[last_elem][\"threshold\"], roll_defects)\n",
    "                score += slice_score\n",
    "            size = 1\n",
    "        last_elem = elem\n",
    "    score += get_slice_score(len(ind), size, biscuits_list[last_elem][\"size\"], biscuits_list[last_elem][\"value\"], biscuits_list[last_elem][\"threshold\"], roll_defects)\n",
    "                \n",
    "    return score"
   ]
  },
  {
   "cell_type": "markdown",
   "id": "5bac669a",
   "metadata": {},
   "source": [
    "3. **Selection** 🥇  \n",
    "- Elite selection:  \n",
    "We'll start by selecting an **‘elite_ratio’ percentage** of our population containing the individuals with the best score. These individuals will not undergo any modifications and will go directly to the next generation.\n",
    "\n",
    "- Parent selection:  \n",
    "Next, we need to add new individuals to our population. To do this, we will randomly select two parents, each of whom will produce one child. The choice of parents will be based on their score; the higher the score of an individual, the greater the chance that they will be chosen as parents. This allows individuals with a low score to still have a chance of being chosen and maintains genetic diversity over the generations.\n",
    "\n",
    "4. **Crossover** 🔗  \n",
    "- For the cross over, we will choose 3 break points at random between 0 and 499 (all different) bp1, bp2 and bp3. And the child will be a random mix of 4 pieces from one of its parents each time:  \n",
    "**0:bp1 + bp1:bp2 + bp2:bp3 + bp3:499** \n",
    "This will allow us to randomly mix the two parents without breaking too many whole biscuits.\n",
    "\n",
    "5. **Mutation** 🍀  \n",
    "- Mutations will be applied to each of the child's positions separately, with each position having a **‘mutation_rate’% chance** of becoming a new random biscuit type between -1 and 3. "
   ]
  },
  {
   "cell_type": "code",
   "execution_count": 7,
   "id": "a6dd84d5",
   "metadata": {},
   "outputs": [],
   "source": [
    "def evolve_pop(population, mutation_rate, elite_ratio, biscuits_list, roll_defects, fitness):\n",
    "\n",
    "    # Compute probability for each individual\n",
    "    fitness_values = [fitness(ind, biscuits_list, roll_defects) for ind in population]\n",
    "\n",
    "    # Chose elites based on individual fitness scores\n",
    "    elite_idx = np.argsort(fitness_values)[int(-len(population) * elite_ratio):]\n",
    "    \n",
    "    elites = [population[i] for i in elite_idx]\n",
    "\n",
    "    min_fitness = min(fitness_values)\n",
    "    shifted_fitness = [f - min_fitness + 1 for f in fitness_values]  # Add 1 to avoid negative fitness for porbabilities compute\n",
    "\n",
    "    fitness_sum = sum(shifted_fitness)\n",
    "    probabilities = [f / fitness_sum for f in shifted_fitness]\n",
    "    \n",
    "\n",
    "    new_population = []\n",
    "    while len(new_population) < len(population) - len(elites):\n",
    "        \n",
    "        # Cross over\n",
    "        # Select two parents based on fitness probabilities\n",
    "        parents_indices = np.random.choice(len(population), size=2, replace=False, p=probabilities)\n",
    "        parent1 = population[parents_indices[0]]\n",
    "        parent2 = population[parents_indices[1]]\n",
    "\n",
    "        child = np.zeros(parent1.shape)\n",
    "        break_points = np.random.choice(len(parent1), size=3, replace=False)\n",
    "        break_points = np.insert(break_points, 0, [0, len(parent1)])\n",
    "        break_points.sort()\n",
    "        for i in range(len(break_points)-1):\n",
    "            start = break_points[i]\n",
    "            end = break_points[i+1]\n",
    "            chosen_p = parent1 if random.random() < 0.5 else parent2\n",
    "            child[start:end] = chosen_p[start:end]\n",
    "\n",
    "        # Mutation\n",
    "        muted_child = np.array([gene if random.random() > mutation_rate else random.randint(-1, 3) for gene in child] )\n",
    "\n",
    "        new_population.append(muted_child)\n",
    "        \n",
    "    return new_population + elites"
   ]
  },
  {
   "cell_type": "code",
   "execution_count": 8,
   "id": "5f621645",
   "metadata": {},
   "outputs": [],
   "source": [
    "def genetic_algorithm(pop_size, mutation_rate, elite_ratio, biscuits_list, roll_defects, roll_size, max_iter, display, fitness, population=None, rtype=\"elite\"):\n",
    "    if population is None:\n",
    "        population = init_population(pop_size, roll_size)\n",
    "    \n",
    "    for i in range(max_iter):\n",
    "        population = evolve_pop(population, mutation_rate, elite_ratio, biscuits_list, roll_defects, fitness)\n",
    "        \n",
    "        if display and (i+1) % display == 0:\n",
    "            # Metric computation, remove 4 lines below to go faster\n",
    "            fitness_values = [fitness(ind, biscuits_list, roll_defects) for ind in population]\n",
    "            elite_idx = np.argsort(fitness_values)[-1]\n",
    "            print(f'Generation {i+1}: Best fitness {fitness_values[elite_idx]}')\n",
    "\n",
    "    if rtype != \"population\":  # if rtype = \"population\" we want to return the entire population for further improves\n",
    "        fitness_values = [fitness(ind, biscuits_list, roll_defects) for ind in population]\n",
    "        elite_idx = np.argsort(fitness_values)[-1]\n",
    "        population = [population[elite_idx]]  # returns only the best element\n",
    "    \n",
    "    return population\n",
    "    "
   ]
  },
  {
   "cell_type": "markdown",
   "id": "62065138",
   "metadata": {},
   "source": [
    "---\n",
    "<a name=\"resolution-and-fitness-comparison\"></a>\n",
    "## 4. Resolution and Fitness Comparison 📊"
   ]
  },
  {
   "cell_type": "markdown",
   "id": "ce3efd3c",
   "metadata": {},
   "source": [
    "First, let's load defects and initialize our biscuits"
   ]
  },
  {
   "cell_type": "code",
   "execution_count": 9,
   "id": "22deb6ad",
   "metadata": {},
   "outputs": [
    {
     "name": "stdout",
     "output_type": "stream",
     "text": [
      "(500, 2)\n"
     ]
    },
    {
     "data": {
      "text/html": [
       "<div>\n",
       "<style scoped>\n",
       "    .dataframe tbody tr th:only-of-type {\n",
       "        vertical-align: middle;\n",
       "    }\n",
       "\n",
       "    .dataframe tbody tr th {\n",
       "        vertical-align: top;\n",
       "    }\n",
       "\n",
       "    .dataframe thead th {\n",
       "        text-align: right;\n",
       "    }\n",
       "</style>\n",
       "<table border=\"1\" class=\"dataframe\">\n",
       "  <thead>\n",
       "    <tr style=\"text-align: right;\">\n",
       "      <th></th>\n",
       "      <th>x</th>\n",
       "      <th>class</th>\n",
       "    </tr>\n",
       "  </thead>\n",
       "  <tbody>\n",
       "    <tr>\n",
       "      <th>479</th>\n",
       "      <td>0.700561</td>\n",
       "      <td>a</td>\n",
       "    </tr>\n",
       "  </tbody>\n",
       "</table>\n",
       "</div>"
      ],
      "text/plain": [
       "            x class\n",
       "479  0.700561     a"
      ]
     },
     "execution_count": 9,
     "metadata": {},
     "output_type": "execute_result"
    }
   ],
   "source": [
    "df = pd.read_csv(\"defects.csv\")\n",
    "print(df.shape)\n",
    "df = df.sort_values(by=\"x\")\n",
    "df.head(1)"
   ]
  },
  {
   "cell_type": "code",
   "execution_count": 10,
   "id": "bc63d0a8",
   "metadata": {},
   "outputs": [],
   "source": [
    "# dict format -> id : (value, size, defects_threshold)\n",
    "\n",
    "biscuits_list = {\n",
    "    -1: ({\"value\": -1, \"size\": 1, \"threshold\": {\"a\":9, \"b\":9, \"c\":9}}),\n",
    "     0: ({\"value\":  3, \"size\": 4, \"threshold\": {\"a\":4, \"b\":2, \"c\":3}}),\n",
    "     1: ({\"value\": 12, \"size\": 8, \"threshold\": {\"a\":5, \"b\":4, \"c\":4}}),\n",
    "     2: ({\"value\":  1, \"size\": 2, \"threshold\": {\"a\":1, \"b\":2, \"c\":1}}),\n",
    "     3: ({\"value\":  8, \"size\": 5, \"threshold\": {\"a\":4, \"b\":2, \"c\":3}}),\n",
    "}"
   ]
  },
  {
   "cell_type": "code",
   "execution_count": 11,
   "id": "3c635e4d",
   "metadata": {},
   "outputs": [],
   "source": [
    "roll_size = 500\n",
    "roll_defects = {i: {\"a\": 0, \"b\": 0, \"c\": 0} for i in range(roll_size)}\n",
    "for _, row in df.iterrows():\n",
    "    if int(row[\"x\"]) >= roll_size:\n",
    "        break\n",
    "    roll_defects[int(row[\"x\"])][row[\"class\"]] += 1"
   ]
  },
  {
   "cell_type": "markdown",
   "id": "43575064",
   "metadata": {},
   "source": [
    "Now let's try different mutation rates with the fitness_2 method and see what works better"
   ]
  },
  {
   "cell_type": "code",
   "execution_count": 13,
   "id": "859340e6",
   "metadata": {},
   "outputs": [],
   "source": [
    "pop_size = 100\n",
    "elite_ratio = 0.1\n",
    "max_iter = 1000"
   ]
  },
  {
   "cell_type": "code",
   "execution_count": 16,
   "id": "c6143c57",
   "metadata": {
    "scrolled": true
   },
   "outputs": [
    {
     "name": "stdout",
     "output_type": "stream",
     "text": [
      "m_rate: 0.01 best fit score 1: 420 | best fit score 2: 645.0124999999999\n",
      "m_rate: 0.02 best fit score 1: 281 | best fit score 2: 560.6774999999999\n",
      "m_rate: 0.03 best fit score 1: 64 | best fit score 2: 463.4299999999999\n",
      "m_rate: 0.04 best fit score 1: -14 | best fit score 2: 419.1599999999997\n",
      "m_rate: 0.1 best fit score 1: -301 | best fit score 2: 258.6799999999998\n"
     ]
    }
   ],
   "source": [
    "for mutation_rate in [0.01, 0.02, 0.03, 0.04, 0.1]:\n",
    "    [result] = genetic_algorithm(pop_size, mutation_rate, elite_ratio, biscuits_list, roll_defects, roll_size, max_iter, None, fitness_2)\n",
    "    print(f\"m_rate: {mutation_rate} best fit score 1: {fitness_1(result, biscuits_list, roll_defects)} | best fit score 2: {fitness_2(result, biscuits_list, roll_defects)}\")"
   ]
  },
  {
   "cell_type": "markdown",
   "id": "d3a41991",
   "metadata": {},
   "source": [
    "Obviously the best mutation rate is 0.01, other are to high and probably cut too many already-formed biscuits.  \n",
    "We also display the score given by the fitness method, since this is the true score given by our biscuits, not counting those that are not whole."
   ]
  },
  {
   "cell_type": "code",
   "execution_count": 15,
   "id": "734ea303",
   "metadata": {},
   "outputs": [],
   "source": [
    "pop_size = 1000\n",
    "mutation_rate = 0.01\n",
    "max_iter = 1000"
   ]
  },
  {
   "cell_type": "code",
   "execution_count": 16,
   "id": "fb7dc3d3",
   "metadata": {},
   "outputs": [
    {
     "name": "stdout",
     "output_type": "stream",
     "text": [
      "elite_ratio: 0.01 best fit score 1: 62 | best fit score 2: 469.5399999999998\n",
      "elite_ratio: 0.02 best fit score 1: 156 | best fit score 2: 532.6224999999997\n",
      "elite_ratio: 0.05 best fit score 1: 350 | best fit score 2: 626.835\n",
      "elite_ratio: 0.1 best fit score 1: 396 | best fit score 2: 642.9\n",
      "elite_ratio: 0.2 best fit score 1: 451 | best fit score 2: 646.5325\n"
     ]
    }
   ],
   "source": [
    "for elite_ratio in [0.01, 0.02, 0.05, 0.1, 0.2]:\n",
    "    [result] = genetic_algorithm(pop_size, mutation_rate, elite_ratio, biscuits_list, roll_defects, roll_size, max_iter, None, fitness_2)\n",
    "    print(f\"elite_ratio: {elite_ratio} best fit score 1: {fitness_1(result, biscuits_list, roll_defects)} | best fit score 2: {fitness_2(result, biscuits_list, roll_defects)}\")"
   ]
  },
  {
   "cell_type": "markdown",
   "id": "5370b3a8",
   "metadata": {},
   "source": [
    "Now that we've found the best parameters for fitness_2, we can try comparing it with fitness to see if there's a difference."
   ]
  },
  {
   "cell_type": "code",
   "execution_count": 17,
   "id": "27a51312",
   "metadata": {},
   "outputs": [],
   "source": [
    "# Use the same parameters because it is the same problem\n",
    "pop_size = 1000\n",
    "mutation_rate = 0.01\n",
    "elite_ratio = 0.2\n",
    "max_iter = 1000\n",
    "display = max_iter // 5"
   ]
  },
  {
   "cell_type": "code",
   "execution_count": 18,
   "id": "44b29f88",
   "metadata": {},
   "outputs": [
    {
     "name": "stdout",
     "output_type": "stream",
     "text": [
      "Generation 200: Best fitness 120\n",
      "Generation 400: Best fitness 174\n",
      "Generation 600: Best fitness 207\n",
      "Generation 800: Best fitness 225\n",
      "Generation 1000: Best fitness 231\n"
     ]
    }
   ],
   "source": [
    "[elite] = genetic_algorithm(pop_size, mutation_rate, elite_ratio, biscuits_list, roll_defects, roll_size, max_iter, display, fitness_1)"
   ]
  },
  {
   "cell_type": "markdown",
   "id": "c427bd58",
   "metadata": {},
   "source": [
    "Results obtained are really bad compare to fitness_2"
   ]
  },
  {
   "cell_type": "markdown",
   "id": "bbfee310",
   "metadata": {},
   "source": [
    "The fitness2 method makes it possible to construct biscuits with a greater length, as their pieces do not reduce the total value. We can see that this method achieves better values than fitness. On the other hand, fitness removes non-whole biscuits too quickly because they are counted as malus, but this is a good thing for our final result because we only want whole biscuits. We can try to see if by combining one and then the other we can get a better result:\n",
    "- Start with fitness_2 to obtain large biscuits \n",
    "- We continue with the same population with fitness to try and complete these biscuits and remove the pieces that are too small. "
   ]
  },
  {
   "cell_type": "code",
   "execution_count": 19,
   "id": "c97e9458",
   "metadata": {},
   "outputs": [
    {
     "name": "stdout",
     "output_type": "stream",
     "text": [
      "Generation 200: Best fitness 491.8399999999998\n",
      "Generation 400: Best fitness 580.4825000000001\n",
      "Generation 600: Best fitness 622.0500000000001\n",
      "Generation 800: Best fitness 648.5475\n",
      "Generation 1000: Best fitness 656.3750000000001\n"
     ]
    }
   ],
   "source": [
    "# Keep the parameters we found before but now save the entire poplation\n",
    "pop_size = 1000\n",
    "mutation_rate = 0.01\n",
    "elite_ratio = 0.2\n",
    "max_iter = 1000\n",
    "display = max_iter // 5\n",
    "population = genetic_algorithm(pop_size, mutation_rate, elite_ratio, biscuits_list, roll_defects, roll_size, max_iter, display, fitness_2, rtype=\"population\")"
   ]
  },
  {
   "cell_type": "markdown",
   "id": "4f558f47",
   "metadata": {},
   "source": [
    "Now let's give this poulation to the GA with fitness_1 and see if we improve the score"
   ]
  },
  {
   "cell_type": "code",
   "execution_count": 20,
   "id": "898ec6a1",
   "metadata": {},
   "outputs": [
    {
     "name": "stdout",
     "output_type": "stream",
     "text": [
      "Generation 200: Best fitness 479\n",
      "Generation 400: Best fitness 492\n",
      "Generation 600: Best fitness 501\n",
      "Generation 800: Best fitness 510\n",
      "Generation 1000: Best fitness 519\n"
     ]
    }
   ],
   "source": [
    "pop_size = len(population)\n",
    "mutation_rate = 0.01\n",
    "elite_ratio = 0.2\n",
    "max_iter = 1000\n",
    "display = max_iter // 5\n",
    "elite = genetic_algorithm(pop_size, mutation_rate, elite_ratio, biscuits_list, roll_defects, roll_size, max_iter, display, fitness_1, population=population)"
   ]
  },
  {
   "cell_type": "markdown",
   "id": "c86cd4df",
   "metadata": {},
   "source": [
    "This combination gives a maximum value of 519, which is much higher than the results for each of them separately. But we obtained a better score and in a much shorter time with the CSP, so we can wonder whether genetic algorithms are a good choice for solving this problem."
   ]
  },
  {
   "cell_type": "markdown",
   "id": "577dc2a7",
   "metadata": {},
   "source": [
    "---\n",
    "<a name=\"is-genetic-algorithms-good-for-this-problem\"></a>\n",
    "## 5. Is Genetic Algorithms Good for This Problem? ❔🕵️‍♂️\n",
    "\n",
    "**This problem is a value optimisation problem with a very large set of possible solutions.**  \n",
    "Genetic algorithms can be a relevant choice for solving it, since they can find a fast and optimised solution to problems with a large number of possible solutions.  \n",
    "\n",
    "However, one detail makes modelling this problem in the form of a genetic algorithm complex:  \n",
    "\n",
    "- **The biscuits have different sizes:**  \n",
    "  In fact, this prevents us from placing only whole biscuits on our roll during initialisation, cross-over and mutation. Why?  \n",
    "  1. **There's a risk that the biscuits will break during cross over**, as there's a good chance that the two parents won't be cut between two biscuits to create their child.  \n",
    "  2. **The same goes for mutations.** How can you randomly replace one biscuit with another when they are not the same size?  \n",
    "\n",
    "For these two reasons, we preferred to use biscuit pieces, but this only limited the efficiency of the algorithm to a large extent:  \n",
    "\n",
    "- There are many more possibilities, which makes calculation times longer.  \n",
    "- The algorithm has difficulty in making whole biscuits despite the fitness method, which leads to a large loss of value."
   ]
  }
 ],
 "metadata": {
  "kernelspec": {
   "display_name": "base",
   "language": "python",
   "name": "python3"
  },
  "language_info": {
   "codemirror_mode": {
    "name": "ipython",
    "version": 3
   },
   "file_extension": ".py",
   "mimetype": "text/x-python",
   "name": "python",
   "nbconvert_exporter": "python",
   "pygments_lexer": "ipython3",
   "version": "3.11.5"
  }
 },
 "nbformat": 4,
 "nbformat_minor": 5
}
